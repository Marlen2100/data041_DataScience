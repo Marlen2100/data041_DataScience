{
 "cells": [
  {
   "cell_type": "code",
   "execution_count": 2,
   "id": "0a75adb1",
   "metadata": {},
   "outputs": [],
   "source": [
    "import pandas as pd"
   ]
  },
  {
   "cell_type": "code",
   "execution_count": 3,
   "id": "27083970",
   "metadata": {},
   "outputs": [],
   "source": [
    "order_df = pd.read_csv(\"orders.csv\")\n",
    "orderlines_df = pd.read_csv(\"orderlines.csv\")\n",
    "brands_df = pd.read_csv(\"brands.csv\")\n",
    "products_df = pd.read_csv(\"products.csv\")"
   ]
  },
  {
   "cell_type": "code",
   "execution_count": null,
   "id": "4b96bf09",
   "metadata": {},
   "outputs": [],
   "source": [
    "# url = \"https://drive.google.com/file/d/1Vu0q91qZw6lqhIqbjoXYvYAQTmVHh6uZ/view?usp=drive_link\" # order.csv\n",
    "# path = \"https://drive.google.com/uc?export=download&id=\"+url.split(\"/\")[-2]\n",
    "# order_df = pd.read_csv(path)\n",
    "\n",
    "# url = \"https://drive.google.com/file/d/1afxwDXfl-7cQ_qLwyDitfcCx3u7WMvkU/view?usp=drive_link\" # products.csv\n",
    "# path = \"https://drive.google.com/uc?export=download&id=\"+url.split(\"/\")[-2]\n",
    "# products_df = pd.read_csv(path)\n",
    "\n",
    "# url = \"https://drive.google.com/file/d/1FYhN_2AzTBFuWcfHaRuKcuCE6CWXsWtG/view?usp=drive_link\" # orderlines.csv\n",
    "# path = \"https://drive.google.com/uc?export=download&id=\"+url.split(\"/\")[-2]\n",
    "# orderlines_df = pd.read_csv(path)\n",
    "\n",
    "# url = \"https://drive.google.com/file/d/1m1ThDDIYRTTii-rqM5SEQjJ8McidJskD/view?usp=drive_link\" # brands.csv\n",
    "# path = \"https://drive.google.com/uc?export=download&id=\"+url.split(\"/\")[-2]\n",
    "# brands_df = pd.read_csv(path)"
   ]
  },
  {
   "cell_type": "code",
   "execution_count": 57,
   "id": "cabf8686",
   "metadata": {},
   "outputs": [],
   "source": [
    "pd.options.display.max_rows = 10"
   ]
  },
  {
   "cell_type": "markdown",
   "id": "71232265",
   "metadata": {},
   "source": [
    "# First Task: Custom exploration"
   ]
  },
  {
   "cell_type": "code",
   "execution_count": 36,
   "id": "3356bed7",
   "metadata": {},
   "outputs": [
    {
     "data": {
      "text/plain": [
       "order_id        226909\n",
       "created_date    226909\n",
       "total_paid      226904\n",
       "state           226909\n",
       "dtype: int64"
      ]
     },
     "execution_count": 36,
     "metadata": {},
     "output_type": "execute_result"
    }
   ],
   "source": [
    "order_df.count()\n",
    "# Answer: There are 226_909 orders in total."
   ]
  },
  {
   "cell_type": "code",
   "execution_count": 37,
   "id": "f3e9c302",
   "metadata": {},
   "outputs": [
    {
     "data": {
      "text/plain": [
       "sku            19326\n",
       "name           19326\n",
       "desc           19319\n",
       "price          19280\n",
       "promo_price    19326\n",
       "in_stock       19326\n",
       "type           19276\n",
       "dtype: int64"
      ]
     },
     "execution_count": 37,
     "metadata": {},
     "output_type": "execute_result"
    }
   ],
   "source": [
    "products_df.count()\n",
    "# Answer: There are 19_326 products in total."
   ]
  },
  {
   "cell_type": "code",
   "execution_count": 42,
   "id": "ccb25438",
   "metadata": {},
   "outputs": [
    {
     "data": {
      "text/plain": [
       "array(['2017-01-01 00:07:19', '2017-01-01 00:19:45',\n",
       "       '2017-01-01 00:20:57', ..., '2018-03-14 13:57:41',\n",
       "       '2018-03-14 13:57:54', '2018-03-14 13:58:36'],\n",
       "      shape=(224828,), dtype=object)"
      ]
     },
     "execution_count": 42,
     "metadata": {},
     "output_type": "execute_result"
    }
   ],
   "source": [
    "order_df[\"created_date\"].sort_values().unique()\n",
    "# Answer: The data has orders from the beginning of 2017 to march of 2018. So 15 months in total."
   ]
  },
  {
   "cell_type": "code",
   "execution_count": 43,
   "id": "e97462bb",
   "metadata": {},
   "outputs": [
    {
     "data": {
      "text/html": [
       "<div>\n",
       "<style scoped>\n",
       "    .dataframe tbody tr th:only-of-type {\n",
       "        vertical-align: middle;\n",
       "    }\n",
       "\n",
       "    .dataframe tbody tr th {\n",
       "        vertical-align: top;\n",
       "    }\n",
       "\n",
       "    .dataframe thead th {\n",
       "        text-align: right;\n",
       "    }\n",
       "</style>\n",
       "<table border=\"1\" class=\"dataframe\">\n",
       "  <thead>\n",
       "    <tr style=\"text-align: right;\">\n",
       "      <th></th>\n",
       "      <th>order_id</th>\n",
       "      <th>created_date</th>\n",
       "      <th>total_paid</th>\n",
       "    </tr>\n",
       "    <tr>\n",
       "      <th>state</th>\n",
       "      <th></th>\n",
       "      <th></th>\n",
       "      <th></th>\n",
       "    </tr>\n",
       "  </thead>\n",
       "  <tbody>\n",
       "    <tr>\n",
       "      <th>Cancelled</th>\n",
       "      <td>7233</td>\n",
       "      <td>7233</td>\n",
       "      <td>7233</td>\n",
       "    </tr>\n",
       "    <tr>\n",
       "      <th>Completed</th>\n",
       "      <td>46605</td>\n",
       "      <td>46605</td>\n",
       "      <td>46605</td>\n",
       "    </tr>\n",
       "    <tr>\n",
       "      <th>Pending</th>\n",
       "      <td>14379</td>\n",
       "      <td>14379</td>\n",
       "      <td>14374</td>\n",
       "    </tr>\n",
       "    <tr>\n",
       "      <th>Place Order</th>\n",
       "      <td>40883</td>\n",
       "      <td>40883</td>\n",
       "      <td>40883</td>\n",
       "    </tr>\n",
       "    <tr>\n",
       "      <th>Shopping Basket</th>\n",
       "      <td>117809</td>\n",
       "      <td>117809</td>\n",
       "      <td>117809</td>\n",
       "    </tr>\n",
       "  </tbody>\n",
       "</table>\n",
       "</div>"
      ],
      "text/plain": [
       "                 order_id  created_date  total_paid\n",
       "state                                              \n",
       "Cancelled            7233          7233        7233\n",
       "Completed           46605         46605       46605\n",
       "Pending             14379         14379       14374\n",
       "Place Order         40883         40883       40883\n",
       "Shopping Basket    117809        117809      117809"
      ]
     },
     "execution_count": 43,
     "metadata": {},
     "output_type": "execute_result"
    }
   ],
   "source": [
    "order_df.groupby(\"state\").count()\n",
    "# Answer: There are 46_605 orders with the status Completed in the data."
   ]
  },
  {
   "cell_type": "code",
   "execution_count": null,
   "id": "9e1312f4",
   "metadata": {},
   "outputs": [],
   "source": [
    "# How should revenue be computed?\n",
    "# Answer: The money that came in from the orders with the status of Completed and Place Order are useful in computing revenue."
   ]
  },
  {
   "cell_type": "markdown",
   "id": "2ff94c5a",
   "metadata": {},
   "source": [
    "# Orders"
   ]
  },
  {
   "cell_type": "markdown",
   "id": "67283ca6",
   "metadata": {},
   "source": [
    "## Information"
   ]
  },
  {
   "cell_type": "code",
   "execution_count": 4,
   "id": "9611b8e7",
   "metadata": {},
   "outputs": [
    {
     "data": {
      "text/html": [
       "<div>\n",
       "<style scoped>\n",
       "    .dataframe tbody tr th:only-of-type {\n",
       "        vertical-align: middle;\n",
       "    }\n",
       "\n",
       "    .dataframe tbody tr th {\n",
       "        vertical-align: top;\n",
       "    }\n",
       "\n",
       "    .dataframe thead th {\n",
       "        text-align: right;\n",
       "    }\n",
       "</style>\n",
       "<table border=\"1\" class=\"dataframe\">\n",
       "  <thead>\n",
       "    <tr style=\"text-align: right;\">\n",
       "      <th></th>\n",
       "      <th>order_id</th>\n",
       "      <th>created_date</th>\n",
       "      <th>total_paid</th>\n",
       "      <th>state</th>\n",
       "    </tr>\n",
       "  </thead>\n",
       "  <tbody>\n",
       "    <tr>\n",
       "      <th>0</th>\n",
       "      <td>241319</td>\n",
       "      <td>2017-01-02 13:35:40</td>\n",
       "      <td>44.99</td>\n",
       "      <td>Cancelled</td>\n",
       "    </tr>\n",
       "    <tr>\n",
       "      <th>1</th>\n",
       "      <td>241423</td>\n",
       "      <td>2017-11-06 13:10:02</td>\n",
       "      <td>136.15</td>\n",
       "      <td>Completed</td>\n",
       "    </tr>\n",
       "    <tr>\n",
       "      <th>2</th>\n",
       "      <td>242832</td>\n",
       "      <td>2017-12-31 17:40:03</td>\n",
       "      <td>15.76</td>\n",
       "      <td>Completed</td>\n",
       "    </tr>\n",
       "    <tr>\n",
       "      <th>3</th>\n",
       "      <td>243330</td>\n",
       "      <td>2017-02-16 10:59:38</td>\n",
       "      <td>84.98</td>\n",
       "      <td>Completed</td>\n",
       "    </tr>\n",
       "    <tr>\n",
       "      <th>4</th>\n",
       "      <td>243784</td>\n",
       "      <td>2017-11-24 13:35:19</td>\n",
       "      <td>157.86</td>\n",
       "      <td>Cancelled</td>\n",
       "    </tr>\n",
       "    <tr>\n",
       "      <th>...</th>\n",
       "      <td>...</td>\n",
       "      <td>...</td>\n",
       "      <td>...</td>\n",
       "      <td>...</td>\n",
       "    </tr>\n",
       "    <tr>\n",
       "      <th>226904</th>\n",
       "      <td>527397</td>\n",
       "      <td>2018-03-14 13:56:38</td>\n",
       "      <td>42.99</td>\n",
       "      <td>Place Order</td>\n",
       "    </tr>\n",
       "    <tr>\n",
       "      <th>226905</th>\n",
       "      <td>527398</td>\n",
       "      <td>2018-03-14 13:57:25</td>\n",
       "      <td>42.99</td>\n",
       "      <td>Shopping Basket</td>\n",
       "    </tr>\n",
       "    <tr>\n",
       "      <th>226906</th>\n",
       "      <td>527399</td>\n",
       "      <td>2018-03-14 13:57:34</td>\n",
       "      <td>141.58</td>\n",
       "      <td>Shopping Basket</td>\n",
       "    </tr>\n",
       "    <tr>\n",
       "      <th>226907</th>\n",
       "      <td>527400</td>\n",
       "      <td>2018-03-14 13:57:41</td>\n",
       "      <td>19.98</td>\n",
       "      <td>Shopping Basket</td>\n",
       "    </tr>\n",
       "    <tr>\n",
       "      <th>226908</th>\n",
       "      <td>527401</td>\n",
       "      <td>2018-03-14 13:58:36</td>\n",
       "      <td>18.98</td>\n",
       "      <td>Place Order</td>\n",
       "    </tr>\n",
       "  </tbody>\n",
       "</table>\n",
       "<p>226909 rows × 4 columns</p>\n",
       "</div>"
      ],
      "text/plain": [
       "        order_id         created_date  total_paid            state\n",
       "0         241319  2017-01-02 13:35:40       44.99        Cancelled\n",
       "1         241423  2017-11-06 13:10:02      136.15        Completed\n",
       "2         242832  2017-12-31 17:40:03       15.76        Completed\n",
       "3         243330  2017-02-16 10:59:38       84.98        Completed\n",
       "4         243784  2017-11-24 13:35:19      157.86        Cancelled\n",
       "...          ...                  ...         ...              ...\n",
       "226904    527397  2018-03-14 13:56:38       42.99      Place Order\n",
       "226905    527398  2018-03-14 13:57:25       42.99  Shopping Basket\n",
       "226906    527399  2018-03-14 13:57:34      141.58  Shopping Basket\n",
       "226907    527400  2018-03-14 13:57:41       19.98  Shopping Basket\n",
       "226908    527401  2018-03-14 13:58:36       18.98      Place Order\n",
       "\n",
       "[226909 rows x 4 columns]"
      ]
     },
     "execution_count": 4,
     "metadata": {},
     "output_type": "execute_result"
    }
   ],
   "source": [
    "order_df"
   ]
  },
  {
   "cell_type": "code",
   "execution_count": 5,
   "id": "d133be0d",
   "metadata": {},
   "outputs": [
    {
     "name": "stdout",
     "output_type": "stream",
     "text": [
      "<class 'pandas.core.frame.DataFrame'>\n",
      "RangeIndex: 226909 entries, 0 to 226908\n",
      "Data columns (total 4 columns):\n",
      " #   Column        Non-Null Count   Dtype  \n",
      "---  ------        --------------   -----  \n",
      " 0   order_id      226909 non-null  int64  \n",
      " 1   created_date  226909 non-null  object \n",
      " 2   total_paid    226904 non-null  float64\n",
      " 3   state         226909 non-null  object \n",
      "dtypes: float64(1), int64(1), object(2)\n",
      "memory usage: 6.9+ MB\n"
     ]
    }
   ],
   "source": [
    "order_df.info()"
   ]
  },
  {
   "cell_type": "code",
   "execution_count": 6,
   "id": "570ddcdc",
   "metadata": {},
   "outputs": [
    {
     "data": {
      "text/plain": [
       "(226909, 4)"
      ]
     },
     "execution_count": 6,
     "metadata": {},
     "output_type": "execute_result"
    }
   ],
   "source": [
    "order_df.shape"
   ]
  },
  {
   "cell_type": "code",
   "execution_count": 7,
   "id": "a74102aa",
   "metadata": {},
   "outputs": [
    {
     "data": {
      "text/html": [
       "<div>\n",
       "<style scoped>\n",
       "    .dataframe tbody tr th:only-of-type {\n",
       "        vertical-align: middle;\n",
       "    }\n",
       "\n",
       "    .dataframe tbody tr th {\n",
       "        vertical-align: top;\n",
       "    }\n",
       "\n",
       "    .dataframe thead th {\n",
       "        text-align: right;\n",
       "    }\n",
       "</style>\n",
       "<table border=\"1\" class=\"dataframe\">\n",
       "  <thead>\n",
       "    <tr style=\"text-align: right;\">\n",
       "      <th></th>\n",
       "      <th>order_id</th>\n",
       "      <th>total_paid</th>\n",
       "    </tr>\n",
       "  </thead>\n",
       "  <tbody>\n",
       "    <tr>\n",
       "      <th>count</th>\n",
       "      <td>226909.000000</td>\n",
       "      <td>226904.000000</td>\n",
       "    </tr>\n",
       "    <tr>\n",
       "      <th>mean</th>\n",
       "      <td>413296.482480</td>\n",
       "      <td>569.225818</td>\n",
       "    </tr>\n",
       "    <tr>\n",
       "      <th>std</th>\n",
       "      <td>65919.250331</td>\n",
       "      <td>1761.778002</td>\n",
       "    </tr>\n",
       "    <tr>\n",
       "      <th>min</th>\n",
       "      <td>241319.000000</td>\n",
       "      <td>0.000000</td>\n",
       "    </tr>\n",
       "    <tr>\n",
       "      <th>25%</th>\n",
       "      <td>356263.000000</td>\n",
       "      <td>34.190000</td>\n",
       "    </tr>\n",
       "    <tr>\n",
       "      <th>50%</th>\n",
       "      <td>413040.000000</td>\n",
       "      <td>112.990000</td>\n",
       "    </tr>\n",
       "    <tr>\n",
       "      <th>75%</th>\n",
       "      <td>470553.000000</td>\n",
       "      <td>525.980000</td>\n",
       "    </tr>\n",
       "    <tr>\n",
       "      <th>max</th>\n",
       "      <td>527401.000000</td>\n",
       "      <td>214747.530000</td>\n",
       "    </tr>\n",
       "  </tbody>\n",
       "</table>\n",
       "</div>"
      ],
      "text/plain": [
       "            order_id     total_paid\n",
       "count  226909.000000  226904.000000\n",
       "mean   413296.482480     569.225818\n",
       "std     65919.250331    1761.778002\n",
       "min    241319.000000       0.000000\n",
       "25%    356263.000000      34.190000\n",
       "50%    413040.000000     112.990000\n",
       "75%    470553.000000     525.980000\n",
       "max    527401.000000  214747.530000"
      ]
     },
     "execution_count": 7,
     "metadata": {},
     "output_type": "execute_result"
    }
   ],
   "source": [
    "order_df.describe()"
   ]
  },
  {
   "cell_type": "code",
   "execution_count": 8,
   "id": "0d56893e",
   "metadata": {},
   "outputs": [
    {
     "data": {
      "text/plain": [
       "order_id        226909\n",
       "created_date    224828\n",
       "total_paid       31236\n",
       "state                5\n",
       "dtype: int64"
      ]
     },
     "execution_count": 8,
     "metadata": {},
     "output_type": "execute_result"
    }
   ],
   "source": [
    "order_df.nunique()"
   ]
  },
  {
   "cell_type": "code",
   "execution_count": 11,
   "id": "2995b24f",
   "metadata": {},
   "outputs": [
    {
     "data": {
      "text/html": [
       "<div>\n",
       "<style scoped>\n",
       "    .dataframe tbody tr th:only-of-type {\n",
       "        vertical-align: middle;\n",
       "    }\n",
       "\n",
       "    .dataframe tbody tr th {\n",
       "        vertical-align: top;\n",
       "    }\n",
       "\n",
       "    .dataframe thead th {\n",
       "        text-align: right;\n",
       "    }\n",
       "</style>\n",
       "<table border=\"1\" class=\"dataframe\">\n",
       "  <thead>\n",
       "    <tr style=\"text-align: right;\">\n",
       "      <th></th>\n",
       "      <th>order_id</th>\n",
       "      <th>created_date</th>\n",
       "      <th>total_paid</th>\n",
       "      <th>state</th>\n",
       "    </tr>\n",
       "  </thead>\n",
       "  <tbody>\n",
       "    <tr>\n",
       "      <th>0</th>\n",
       "      <td>241319</td>\n",
       "      <td>2017-01-02 13:35:40</td>\n",
       "      <td>44.99</td>\n",
       "      <td>Cancelled</td>\n",
       "    </tr>\n",
       "    <tr>\n",
       "      <th>1</th>\n",
       "      <td>241423</td>\n",
       "      <td>2017-11-06 13:10:02</td>\n",
       "      <td>136.15</td>\n",
       "      <td>Completed</td>\n",
       "    </tr>\n",
       "    <tr>\n",
       "      <th>2</th>\n",
       "      <td>242832</td>\n",
       "      <td>2017-12-31 17:40:03</td>\n",
       "      <td>15.76</td>\n",
       "      <td>Completed</td>\n",
       "    </tr>\n",
       "    <tr>\n",
       "      <th>3</th>\n",
       "      <td>243330</td>\n",
       "      <td>2017-02-16 10:59:38</td>\n",
       "      <td>84.98</td>\n",
       "      <td>Completed</td>\n",
       "    </tr>\n",
       "    <tr>\n",
       "      <th>4</th>\n",
       "      <td>243784</td>\n",
       "      <td>2017-11-24 13:35:19</td>\n",
       "      <td>157.86</td>\n",
       "      <td>Cancelled</td>\n",
       "    </tr>\n",
       "  </tbody>\n",
       "</table>\n",
       "</div>"
      ],
      "text/plain": [
       "   order_id         created_date  total_paid      state\n",
       "0    241319  2017-01-02 13:35:40       44.99  Cancelled\n",
       "1    241423  2017-11-06 13:10:02      136.15  Completed\n",
       "2    242832  2017-12-31 17:40:03       15.76  Completed\n",
       "3    243330  2017-02-16 10:59:38       84.98  Completed\n",
       "4    243784  2017-11-24 13:35:19      157.86  Cancelled"
      ]
     },
     "execution_count": 11,
     "metadata": {},
     "output_type": "execute_result"
    }
   ],
   "source": [
    "order_df.head()"
   ]
  },
  {
   "cell_type": "code",
   "execution_count": 12,
   "id": "d67b7e48",
   "metadata": {},
   "outputs": [
    {
     "data": {
      "text/html": [
       "<div>\n",
       "<style scoped>\n",
       "    .dataframe tbody tr th:only-of-type {\n",
       "        vertical-align: middle;\n",
       "    }\n",
       "\n",
       "    .dataframe tbody tr th {\n",
       "        vertical-align: top;\n",
       "    }\n",
       "\n",
       "    .dataframe thead th {\n",
       "        text-align: right;\n",
       "    }\n",
       "</style>\n",
       "<table border=\"1\" class=\"dataframe\">\n",
       "  <thead>\n",
       "    <tr style=\"text-align: right;\">\n",
       "      <th></th>\n",
       "      <th>order_id</th>\n",
       "      <th>created_date</th>\n",
       "      <th>total_paid</th>\n",
       "      <th>state</th>\n",
       "    </tr>\n",
       "  </thead>\n",
       "  <tbody>\n",
       "    <tr>\n",
       "      <th>226904</th>\n",
       "      <td>527397</td>\n",
       "      <td>2018-03-14 13:56:38</td>\n",
       "      <td>42.99</td>\n",
       "      <td>Place Order</td>\n",
       "    </tr>\n",
       "    <tr>\n",
       "      <th>226905</th>\n",
       "      <td>527398</td>\n",
       "      <td>2018-03-14 13:57:25</td>\n",
       "      <td>42.99</td>\n",
       "      <td>Shopping Basket</td>\n",
       "    </tr>\n",
       "    <tr>\n",
       "      <th>226906</th>\n",
       "      <td>527399</td>\n",
       "      <td>2018-03-14 13:57:34</td>\n",
       "      <td>141.58</td>\n",
       "      <td>Shopping Basket</td>\n",
       "    </tr>\n",
       "    <tr>\n",
       "      <th>226907</th>\n",
       "      <td>527400</td>\n",
       "      <td>2018-03-14 13:57:41</td>\n",
       "      <td>19.98</td>\n",
       "      <td>Shopping Basket</td>\n",
       "    </tr>\n",
       "    <tr>\n",
       "      <th>226908</th>\n",
       "      <td>527401</td>\n",
       "      <td>2018-03-14 13:58:36</td>\n",
       "      <td>18.98</td>\n",
       "      <td>Place Order</td>\n",
       "    </tr>\n",
       "  </tbody>\n",
       "</table>\n",
       "</div>"
      ],
      "text/plain": [
       "        order_id         created_date  total_paid            state\n",
       "226904    527397  2018-03-14 13:56:38       42.99      Place Order\n",
       "226905    527398  2018-03-14 13:57:25       42.99  Shopping Basket\n",
       "226906    527399  2018-03-14 13:57:34      141.58  Shopping Basket\n",
       "226907    527400  2018-03-14 13:57:41       19.98  Shopping Basket\n",
       "226908    527401  2018-03-14 13:58:36       18.98      Place Order"
      ]
     },
     "execution_count": 12,
     "metadata": {},
     "output_type": "execute_result"
    }
   ],
   "source": [
    "order_df.tail()"
   ]
  },
  {
   "cell_type": "code",
   "execution_count": 13,
   "id": "69c54160",
   "metadata": {},
   "outputs": [
    {
     "data": {
      "text/plain": [
       "order_id        0\n",
       "created_date    0\n",
       "total_paid      5\n",
       "state           0\n",
       "dtype: int64"
      ]
     },
     "execution_count": 13,
     "metadata": {},
     "output_type": "execute_result"
    }
   ],
   "source": [
    "order_df.isna().sum()"
   ]
  },
  {
   "cell_type": "code",
   "execution_count": 14,
   "id": "0ac45589",
   "metadata": {},
   "outputs": [
    {
     "data": {
      "text/plain": [
       "np.int64(0)"
      ]
     },
     "execution_count": 14,
     "metadata": {},
     "output_type": "execute_result"
    }
   ],
   "source": [
    "order_df.duplicated().sum()"
   ]
  },
  {
   "cell_type": "markdown",
   "id": "5376293e",
   "metadata": {},
   "source": [
    "## Deeper Search"
   ]
  },
  {
   "cell_type": "code",
   "execution_count": 9,
   "id": "138a0906",
   "metadata": {},
   "outputs": [
    {
     "data": {
      "text/plain": [
       "array(['Cancelled', 'Completed', 'Pending', 'Shopping Basket',\n",
       "       'Place Order'], dtype=object)"
      ]
     },
     "execution_count": 9,
     "metadata": {},
     "output_type": "execute_result"
    }
   ],
   "source": [
    "order_df[\"state\"].unique()"
   ]
  },
  {
   "cell_type": "code",
   "execution_count": 10,
   "id": "819f1eab",
   "metadata": {},
   "outputs": [
    {
     "data": {
      "text/html": [
       "<div>\n",
       "<style scoped>\n",
       "    .dataframe tbody tr th:only-of-type {\n",
       "        vertical-align: middle;\n",
       "    }\n",
       "\n",
       "    .dataframe tbody tr th {\n",
       "        vertical-align: top;\n",
       "    }\n",
       "\n",
       "    .dataframe thead th {\n",
       "        text-align: right;\n",
       "    }\n",
       "</style>\n",
       "<table border=\"1\" class=\"dataframe\">\n",
       "  <thead>\n",
       "    <tr style=\"text-align: right;\">\n",
       "      <th></th>\n",
       "      <th>order_id</th>\n",
       "      <th>created_date</th>\n",
       "      <th>total_paid</th>\n",
       "    </tr>\n",
       "    <tr>\n",
       "      <th>state</th>\n",
       "      <th></th>\n",
       "      <th></th>\n",
       "      <th></th>\n",
       "    </tr>\n",
       "  </thead>\n",
       "  <tbody>\n",
       "    <tr>\n",
       "      <th>Cancelled</th>\n",
       "      <td>7233</td>\n",
       "      <td>7233</td>\n",
       "      <td>7233</td>\n",
       "    </tr>\n",
       "    <tr>\n",
       "      <th>Completed</th>\n",
       "      <td>46605</td>\n",
       "      <td>46605</td>\n",
       "      <td>46605</td>\n",
       "    </tr>\n",
       "    <tr>\n",
       "      <th>Pending</th>\n",
       "      <td>14379</td>\n",
       "      <td>14379</td>\n",
       "      <td>14374</td>\n",
       "    </tr>\n",
       "    <tr>\n",
       "      <th>Place Order</th>\n",
       "      <td>40883</td>\n",
       "      <td>40883</td>\n",
       "      <td>40883</td>\n",
       "    </tr>\n",
       "    <tr>\n",
       "      <th>Shopping Basket</th>\n",
       "      <td>117809</td>\n",
       "      <td>117809</td>\n",
       "      <td>117809</td>\n",
       "    </tr>\n",
       "  </tbody>\n",
       "</table>\n",
       "</div>"
      ],
      "text/plain": [
       "                 order_id  created_date  total_paid\n",
       "state                                              \n",
       "Cancelled            7233          7233        7233\n",
       "Completed           46605         46605       46605\n",
       "Pending             14379         14379       14374\n",
       "Place Order         40883         40883       40883\n",
       "Shopping Basket    117809        117809      117809"
      ]
     },
     "execution_count": 10,
     "metadata": {},
     "output_type": "execute_result"
    }
   ],
   "source": [
    "order_df.groupby(\"state\").count()"
   ]
  },
  {
   "cell_type": "code",
   "execution_count": 15,
   "id": "34acefb3",
   "metadata": {},
   "outputs": [
    {
     "data": {
      "text/html": [
       "<div>\n",
       "<style scoped>\n",
       "    .dataframe tbody tr th:only-of-type {\n",
       "        vertical-align: middle;\n",
       "    }\n",
       "\n",
       "    .dataframe tbody tr th {\n",
       "        vertical-align: top;\n",
       "    }\n",
       "\n",
       "    .dataframe thead th {\n",
       "        text-align: right;\n",
       "    }\n",
       "</style>\n",
       "<table border=\"1\" class=\"dataframe\">\n",
       "  <thead>\n",
       "    <tr style=\"text-align: right;\">\n",
       "      <th></th>\n",
       "      <th>order_id</th>\n",
       "      <th>created_date</th>\n",
       "      <th>total_paid</th>\n",
       "      <th>state</th>\n",
       "    </tr>\n",
       "  </thead>\n",
       "  <tbody>\n",
       "    <tr>\n",
       "      <th>96028</th>\n",
       "      <td>395611</td>\n",
       "      <td>2017-09-01 20:56:34</td>\n",
       "      <td>214747.53</td>\n",
       "      <td>Shopping Basket</td>\n",
       "    </tr>\n",
       "    <tr>\n",
       "      <th>2478</th>\n",
       "      <td>301934</td>\n",
       "      <td>2017-01-03 19:27:13</td>\n",
       "      <td>214746.63</td>\n",
       "      <td>Shopping Basket</td>\n",
       "    </tr>\n",
       "    <tr>\n",
       "      <th>183927</th>\n",
       "      <td>484334</td>\n",
       "      <td>2018-01-07 15:58:26</td>\n",
       "      <td>214714.31</td>\n",
       "      <td>Shopping Basket</td>\n",
       "    </tr>\n",
       "    <tr>\n",
       "      <th>61659</th>\n",
       "      <td>361200</td>\n",
       "      <td>2017-06-01 11:55:02</td>\n",
       "      <td>214642.47</td>\n",
       "      <td>Shopping Basket</td>\n",
       "    </tr>\n",
       "    <tr>\n",
       "      <th>40557</th>\n",
       "      <td>340045</td>\n",
       "      <td>2017-03-28 13:27:52</td>\n",
       "      <td>214517.58</td>\n",
       "      <td>Shopping Basket</td>\n",
       "    </tr>\n",
       "  </tbody>\n",
       "</table>\n",
       "</div>"
      ],
      "text/plain": [
       "        order_id         created_date  total_paid            state\n",
       "96028     395611  2017-09-01 20:56:34   214747.53  Shopping Basket\n",
       "2478      301934  2017-01-03 19:27:13   214746.63  Shopping Basket\n",
       "183927    484334  2018-01-07 15:58:26   214714.31  Shopping Basket\n",
       "61659     361200  2017-06-01 11:55:02   214642.47  Shopping Basket\n",
       "40557     340045  2017-03-28 13:27:52   214517.58  Shopping Basket"
      ]
     },
     "execution_count": 15,
     "metadata": {},
     "output_type": "execute_result"
    }
   ],
   "source": [
    "order_df.nlargest(5,\"total_paid\")"
   ]
  },
  {
   "cell_type": "code",
   "execution_count": 16,
   "id": "67dc5dfc",
   "metadata": {},
   "outputs": [
    {
     "data": {
      "text/html": [
       "<div>\n",
       "<style scoped>\n",
       "    .dataframe tbody tr th:only-of-type {\n",
       "        vertical-align: middle;\n",
       "    }\n",
       "\n",
       "    .dataframe tbody tr th {\n",
       "        vertical-align: top;\n",
       "    }\n",
       "\n",
       "    .dataframe thead th {\n",
       "        text-align: right;\n",
       "    }\n",
       "</style>\n",
       "<table border=\"1\" class=\"dataframe\">\n",
       "  <thead>\n",
       "    <tr style=\"text-align: right;\">\n",
       "      <th></th>\n",
       "      <th>order_id</th>\n",
       "      <th>created_date</th>\n",
       "      <th>total_paid</th>\n",
       "      <th>state</th>\n",
       "    </tr>\n",
       "  </thead>\n",
       "  <tbody>\n",
       "    <tr>\n",
       "      <th>150</th>\n",
       "      <td>296010</td>\n",
       "      <td>2017-01-09 23:47:00</td>\n",
       "      <td>0.0</td>\n",
       "      <td>Completed</td>\n",
       "    </tr>\n",
       "    <tr>\n",
       "      <th>264</th>\n",
       "      <td>299605</td>\n",
       "      <td>2017-01-01 10:33:46</td>\n",
       "      <td>0.0</td>\n",
       "      <td>Shopping Basket</td>\n",
       "    </tr>\n",
       "    <tr>\n",
       "      <th>308</th>\n",
       "      <td>299651</td>\n",
       "      <td>2017-01-01 12:23:58</td>\n",
       "      <td>0.0</td>\n",
       "      <td>Shopping Basket</td>\n",
       "    </tr>\n",
       "    <tr>\n",
       "      <th>377</th>\n",
       "      <td>299731</td>\n",
       "      <td>2017-01-01 14:52:18</td>\n",
       "      <td>0.0</td>\n",
       "      <td>Shopping Basket</td>\n",
       "    </tr>\n",
       "    <tr>\n",
       "      <th>380</th>\n",
       "      <td>299734</td>\n",
       "      <td>2017-01-01 14:55:20</td>\n",
       "      <td>0.0</td>\n",
       "      <td>Shopping Basket</td>\n",
       "    </tr>\n",
       "  </tbody>\n",
       "</table>\n",
       "</div>"
      ],
      "text/plain": [
       "     order_id         created_date  total_paid            state\n",
       "150    296010  2017-01-09 23:47:00         0.0        Completed\n",
       "264    299605  2017-01-01 10:33:46         0.0  Shopping Basket\n",
       "308    299651  2017-01-01 12:23:58         0.0  Shopping Basket\n",
       "377    299731  2017-01-01 14:52:18         0.0  Shopping Basket\n",
       "380    299734  2017-01-01 14:55:20         0.0  Shopping Basket"
      ]
     },
     "execution_count": 16,
     "metadata": {},
     "output_type": "execute_result"
    }
   ],
   "source": [
    "order_df.nsmallest(5,\"total_paid\")"
   ]
  },
  {
   "cell_type": "code",
   "execution_count": null,
   "id": "58dc457c",
   "metadata": {},
   "outputs": [],
   "source": [
    "#order_df[\"created_date\"].first(\"3D\")\n",
    "# needs \"created date\" column to be converted to dateframe"
   ]
  },
  {
   "cell_type": "markdown",
   "id": "ff74b9ff",
   "metadata": {},
   "source": [
    "# Products"
   ]
  },
  {
   "cell_type": "markdown",
   "id": "3afa7f14",
   "metadata": {},
   "source": [
    "## Information"
   ]
  },
  {
   "cell_type": "code",
   "execution_count": 17,
   "id": "d7b76c51",
   "metadata": {},
   "outputs": [
    {
     "data": {
      "text/html": [
       "<div>\n",
       "<style scoped>\n",
       "    .dataframe tbody tr th:only-of-type {\n",
       "        vertical-align: middle;\n",
       "    }\n",
       "\n",
       "    .dataframe tbody tr th {\n",
       "        vertical-align: top;\n",
       "    }\n",
       "\n",
       "    .dataframe thead th {\n",
       "        text-align: right;\n",
       "    }\n",
       "</style>\n",
       "<table border=\"1\" class=\"dataframe\">\n",
       "  <thead>\n",
       "    <tr style=\"text-align: right;\">\n",
       "      <th></th>\n",
       "      <th>sku</th>\n",
       "      <th>name</th>\n",
       "      <th>desc</th>\n",
       "      <th>price</th>\n",
       "      <th>promo_price</th>\n",
       "      <th>in_stock</th>\n",
       "      <th>type</th>\n",
       "    </tr>\n",
       "  </thead>\n",
       "  <tbody>\n",
       "    <tr>\n",
       "      <th>0</th>\n",
       "      <td>RAI0007</td>\n",
       "      <td>Silver Rain Design mStand Support</td>\n",
       "      <td>Aluminum support compatible with all MacBook</td>\n",
       "      <td>59.99</td>\n",
       "      <td>499.899</td>\n",
       "      <td>1</td>\n",
       "      <td>8696</td>\n",
       "    </tr>\n",
       "    <tr>\n",
       "      <th>1</th>\n",
       "      <td>APP0023</td>\n",
       "      <td>Apple Mac Keyboard Keypad Spanish</td>\n",
       "      <td>USB ultrathin keyboard Apple Mac Spanish.</td>\n",
       "      <td>59</td>\n",
       "      <td>589.996</td>\n",
       "      <td>0</td>\n",
       "      <td>13855401</td>\n",
       "    </tr>\n",
       "    <tr>\n",
       "      <th>2</th>\n",
       "      <td>APP0025</td>\n",
       "      <td>Mighty Mouse Apple Mouse for Mac</td>\n",
       "      <td>mouse Apple USB cable.</td>\n",
       "      <td>59</td>\n",
       "      <td>569.898</td>\n",
       "      <td>0</td>\n",
       "      <td>1387</td>\n",
       "    </tr>\n",
       "    <tr>\n",
       "      <th>3</th>\n",
       "      <td>APP0072</td>\n",
       "      <td>Apple Dock to USB Cable iPhone and iPod white</td>\n",
       "      <td>IPhone dock and USB Cable Apple iPod.</td>\n",
       "      <td>25</td>\n",
       "      <td>229.997</td>\n",
       "      <td>0</td>\n",
       "      <td>1230</td>\n",
       "    </tr>\n",
       "    <tr>\n",
       "      <th>4</th>\n",
       "      <td>KIN0007</td>\n",
       "      <td>Mac Memory Kingston 2GB 667MHz DDR2 SO-DIMM</td>\n",
       "      <td>2GB RAM Mac mini and iMac (2006/07) MacBook Pr...</td>\n",
       "      <td>34.99</td>\n",
       "      <td>31.99</td>\n",
       "      <td>1</td>\n",
       "      <td>1364</td>\n",
       "    </tr>\n",
       "    <tr>\n",
       "      <th>...</th>\n",
       "      <td>...</td>\n",
       "      <td>...</td>\n",
       "      <td>...</td>\n",
       "      <td>...</td>\n",
       "      <td>...</td>\n",
       "      <td>...</td>\n",
       "      <td>...</td>\n",
       "    </tr>\n",
       "    <tr>\n",
       "      <th>19321</th>\n",
       "      <td>BEL0376</td>\n",
       "      <td>Belkin Travel Support Apple Watch Black</td>\n",
       "      <td>compact and portable stand vertically or horiz...</td>\n",
       "      <td>29.99</td>\n",
       "      <td>269.903</td>\n",
       "      <td>1</td>\n",
       "      <td>12282</td>\n",
       "    </tr>\n",
       "    <tr>\n",
       "      <th>19322</th>\n",
       "      <td>THU0060</td>\n",
       "      <td>Enroute Thule 14L Backpack MacBook 13 \"Black</td>\n",
       "      <td>Backpack with capacity of 14 liter compartment...</td>\n",
       "      <td>69.95</td>\n",
       "      <td>649.903</td>\n",
       "      <td>1</td>\n",
       "      <td>1392</td>\n",
       "    </tr>\n",
       "    <tr>\n",
       "      <th>19323</th>\n",
       "      <td>THU0061</td>\n",
       "      <td>Enroute Thule 14L Backpack MacBook 13 \"Blue</td>\n",
       "      <td>Backpack with capacity of 14 liter compartment...</td>\n",
       "      <td>69.95</td>\n",
       "      <td>649.903</td>\n",
       "      <td>1</td>\n",
       "      <td>1392</td>\n",
       "    </tr>\n",
       "    <tr>\n",
       "      <th>19324</th>\n",
       "      <td>THU0062</td>\n",
       "      <td>Enroute Thule 14L Backpack MacBook 13 \"Red</td>\n",
       "      <td>Backpack with capacity of 14 liter compartment...</td>\n",
       "      <td>69.95</td>\n",
       "      <td>649.903</td>\n",
       "      <td>0</td>\n",
       "      <td>1392</td>\n",
       "    </tr>\n",
       "    <tr>\n",
       "      <th>19325</th>\n",
       "      <td>THU0063</td>\n",
       "      <td>Enroute Thule 14L Backpack MacBook 13 \"Green</td>\n",
       "      <td>Backpack with capacity of 14 liter compartment...</td>\n",
       "      <td>69.95</td>\n",
       "      <td>649.903</td>\n",
       "      <td>1</td>\n",
       "      <td>1392</td>\n",
       "    </tr>\n",
       "  </tbody>\n",
       "</table>\n",
       "<p>19326 rows × 7 columns</p>\n",
       "</div>"
      ],
      "text/plain": [
       "           sku                                           name  \\\n",
       "0      RAI0007              Silver Rain Design mStand Support   \n",
       "1      APP0023              Apple Mac Keyboard Keypad Spanish   \n",
       "2      APP0025               Mighty Mouse Apple Mouse for Mac   \n",
       "3      APP0072  Apple Dock to USB Cable iPhone and iPod white   \n",
       "4      KIN0007    Mac Memory Kingston 2GB 667MHz DDR2 SO-DIMM   \n",
       "...        ...                                            ...   \n",
       "19321  BEL0376        Belkin Travel Support Apple Watch Black   \n",
       "19322  THU0060   Enroute Thule 14L Backpack MacBook 13 \"Black   \n",
       "19323  THU0061    Enroute Thule 14L Backpack MacBook 13 \"Blue   \n",
       "19324  THU0062     Enroute Thule 14L Backpack MacBook 13 \"Red   \n",
       "19325  THU0063   Enroute Thule 14L Backpack MacBook 13 \"Green   \n",
       "\n",
       "                                                    desc  price promo_price  \\\n",
       "0           Aluminum support compatible with all MacBook  59.99     499.899   \n",
       "1              USB ultrathin keyboard Apple Mac Spanish.     59     589.996   \n",
       "2                                 mouse Apple USB cable.     59     569.898   \n",
       "3                  IPhone dock and USB Cable Apple iPod.     25     229.997   \n",
       "4      2GB RAM Mac mini and iMac (2006/07) MacBook Pr...  34.99       31.99   \n",
       "...                                                  ...    ...         ...   \n",
       "19321  compact and portable stand vertically or horiz...  29.99     269.903   \n",
       "19322  Backpack with capacity of 14 liter compartment...  69.95     649.903   \n",
       "19323  Backpack with capacity of 14 liter compartment...  69.95     649.903   \n",
       "19324  Backpack with capacity of 14 liter compartment...  69.95     649.903   \n",
       "19325  Backpack with capacity of 14 liter compartment...  69.95     649.903   \n",
       "\n",
       "       in_stock      type  \n",
       "0             1      8696  \n",
       "1             0  13855401  \n",
       "2             0      1387  \n",
       "3             0      1230  \n",
       "4             1      1364  \n",
       "...         ...       ...  \n",
       "19321         1     12282  \n",
       "19322         1      1392  \n",
       "19323         1      1392  \n",
       "19324         0      1392  \n",
       "19325         1      1392  \n",
       "\n",
       "[19326 rows x 7 columns]"
      ]
     },
     "execution_count": 17,
     "metadata": {},
     "output_type": "execute_result"
    }
   ],
   "source": [
    "products_df"
   ]
  },
  {
   "cell_type": "code",
   "execution_count": 18,
   "id": "5821feee",
   "metadata": {},
   "outputs": [
    {
     "name": "stdout",
     "output_type": "stream",
     "text": [
      "<class 'pandas.core.frame.DataFrame'>\n",
      "RangeIndex: 19326 entries, 0 to 19325\n",
      "Data columns (total 7 columns):\n",
      " #   Column       Non-Null Count  Dtype \n",
      "---  ------       --------------  ----- \n",
      " 0   sku          19326 non-null  object\n",
      " 1   name         19326 non-null  object\n",
      " 2   desc         19319 non-null  object\n",
      " 3   price        19280 non-null  object\n",
      " 4   promo_price  19326 non-null  object\n",
      " 5   in_stock     19326 non-null  int64 \n",
      " 6   type         19276 non-null  object\n",
      "dtypes: int64(1), object(6)\n",
      "memory usage: 1.0+ MB\n"
     ]
    }
   ],
   "source": [
    "products_df.info()"
   ]
  },
  {
   "cell_type": "code",
   "execution_count": 19,
   "id": "7ec3bec6",
   "metadata": {},
   "outputs": [
    {
     "data": {
      "text/plain": [
       "(19326, 7)"
      ]
     },
     "execution_count": 19,
     "metadata": {},
     "output_type": "execute_result"
    }
   ],
   "source": [
    "products_df.shape"
   ]
  },
  {
   "cell_type": "code",
   "execution_count": 20,
   "id": "e7dba7db",
   "metadata": {},
   "outputs": [
    {
     "data": {
      "text/html": [
       "<div>\n",
       "<style scoped>\n",
       "    .dataframe tbody tr th:only-of-type {\n",
       "        vertical-align: middle;\n",
       "    }\n",
       "\n",
       "    .dataframe tbody tr th {\n",
       "        vertical-align: top;\n",
       "    }\n",
       "\n",
       "    .dataframe thead th {\n",
       "        text-align: right;\n",
       "    }\n",
       "</style>\n",
       "<table border=\"1\" class=\"dataframe\">\n",
       "  <thead>\n",
       "    <tr style=\"text-align: right;\">\n",
       "      <th></th>\n",
       "      <th>in_stock</th>\n",
       "    </tr>\n",
       "  </thead>\n",
       "  <tbody>\n",
       "    <tr>\n",
       "      <th>count</th>\n",
       "      <td>19326.000000</td>\n",
       "    </tr>\n",
       "    <tr>\n",
       "      <th>mean</th>\n",
       "      <td>0.109593</td>\n",
       "    </tr>\n",
       "    <tr>\n",
       "      <th>std</th>\n",
       "      <td>0.312390</td>\n",
       "    </tr>\n",
       "    <tr>\n",
       "      <th>min</th>\n",
       "      <td>0.000000</td>\n",
       "    </tr>\n",
       "    <tr>\n",
       "      <th>25%</th>\n",
       "      <td>0.000000</td>\n",
       "    </tr>\n",
       "    <tr>\n",
       "      <th>50%</th>\n",
       "      <td>0.000000</td>\n",
       "    </tr>\n",
       "    <tr>\n",
       "      <th>75%</th>\n",
       "      <td>0.000000</td>\n",
       "    </tr>\n",
       "    <tr>\n",
       "      <th>max</th>\n",
       "      <td>1.000000</td>\n",
       "    </tr>\n",
       "  </tbody>\n",
       "</table>\n",
       "</div>"
      ],
      "text/plain": [
       "           in_stock\n",
       "count  19326.000000\n",
       "mean       0.109593\n",
       "std        0.312390\n",
       "min        0.000000\n",
       "25%        0.000000\n",
       "50%        0.000000\n",
       "75%        0.000000\n",
       "max        1.000000"
      ]
     },
     "execution_count": 20,
     "metadata": {},
     "output_type": "execute_result"
    }
   ],
   "source": [
    "products_df.describe()"
   ]
  },
  {
   "cell_type": "code",
   "execution_count": 21,
   "id": "1650cb66",
   "metadata": {},
   "outputs": [
    {
     "data": {
      "text/plain": [
       "sku            10579\n",
       "name           10373\n",
       "desc            7098\n",
       "price           2690\n",
       "promo_price     4614\n",
       "in_stock           2\n",
       "type             126\n",
       "dtype: int64"
      ]
     },
     "execution_count": 21,
     "metadata": {},
     "output_type": "execute_result"
    }
   ],
   "source": [
    "products_df.nunique()"
   ]
  },
  {
   "cell_type": "code",
   "execution_count": 50,
   "id": "0e4dc465",
   "metadata": {},
   "outputs": [
    {
     "data": {
      "text/html": [
       "<div>\n",
       "<style scoped>\n",
       "    .dataframe tbody tr th:only-of-type {\n",
       "        vertical-align: middle;\n",
       "    }\n",
       "\n",
       "    .dataframe tbody tr th {\n",
       "        vertical-align: top;\n",
       "    }\n",
       "\n",
       "    .dataframe thead th {\n",
       "        text-align: right;\n",
       "    }\n",
       "</style>\n",
       "<table border=\"1\" class=\"dataframe\">\n",
       "  <thead>\n",
       "    <tr style=\"text-align: right;\">\n",
       "      <th></th>\n",
       "      <th>sku</th>\n",
       "      <th>name</th>\n",
       "      <th>desc</th>\n",
       "      <th>price</th>\n",
       "      <th>promo_price</th>\n",
       "      <th>in_stock</th>\n",
       "      <th>type</th>\n",
       "    </tr>\n",
       "  </thead>\n",
       "  <tbody>\n",
       "    <tr>\n",
       "      <th>0</th>\n",
       "      <td>RAI0007</td>\n",
       "      <td>Silver Rain Design mStand Support</td>\n",
       "      <td>Aluminum support compatible with all MacBook</td>\n",
       "      <td>59.99</td>\n",
       "      <td>499.899</td>\n",
       "      <td>1</td>\n",
       "      <td>8696</td>\n",
       "    </tr>\n",
       "    <tr>\n",
       "      <th>1</th>\n",
       "      <td>APP0023</td>\n",
       "      <td>Apple Mac Keyboard Keypad Spanish</td>\n",
       "      <td>USB ultrathin keyboard Apple Mac Spanish.</td>\n",
       "      <td>59</td>\n",
       "      <td>589.996</td>\n",
       "      <td>0</td>\n",
       "      <td>13855401</td>\n",
       "    </tr>\n",
       "    <tr>\n",
       "      <th>2</th>\n",
       "      <td>APP0025</td>\n",
       "      <td>Mighty Mouse Apple Mouse for Mac</td>\n",
       "      <td>mouse Apple USB cable.</td>\n",
       "      <td>59</td>\n",
       "      <td>569.898</td>\n",
       "      <td>0</td>\n",
       "      <td>1387</td>\n",
       "    </tr>\n",
       "    <tr>\n",
       "      <th>3</th>\n",
       "      <td>APP0072</td>\n",
       "      <td>Apple Dock to USB Cable iPhone and iPod white</td>\n",
       "      <td>IPhone dock and USB Cable Apple iPod.</td>\n",
       "      <td>25</td>\n",
       "      <td>229.997</td>\n",
       "      <td>0</td>\n",
       "      <td>1230</td>\n",
       "    </tr>\n",
       "    <tr>\n",
       "      <th>4</th>\n",
       "      <td>KIN0007</td>\n",
       "      <td>Mac Memory Kingston 2GB 667MHz DDR2 SO-DIMM</td>\n",
       "      <td>2GB RAM Mac mini and iMac (2006/07) MacBook Pr...</td>\n",
       "      <td>34.99</td>\n",
       "      <td>31.99</td>\n",
       "      <td>1</td>\n",
       "      <td>1364</td>\n",
       "    </tr>\n",
       "  </tbody>\n",
       "</table>\n",
       "</div>"
      ],
      "text/plain": [
       "       sku                                           name  \\\n",
       "0  RAI0007              Silver Rain Design mStand Support   \n",
       "1  APP0023              Apple Mac Keyboard Keypad Spanish   \n",
       "2  APP0025               Mighty Mouse Apple Mouse for Mac   \n",
       "3  APP0072  Apple Dock to USB Cable iPhone and iPod white   \n",
       "4  KIN0007    Mac Memory Kingston 2GB 667MHz DDR2 SO-DIMM   \n",
       "\n",
       "                                                desc  price promo_price  \\\n",
       "0       Aluminum support compatible with all MacBook  59.99     499.899   \n",
       "1          USB ultrathin keyboard Apple Mac Spanish.     59     589.996   \n",
       "2                             mouse Apple USB cable.     59     569.898   \n",
       "3              IPhone dock and USB Cable Apple iPod.     25     229.997   \n",
       "4  2GB RAM Mac mini and iMac (2006/07) MacBook Pr...  34.99       31.99   \n",
       "\n",
       "   in_stock      type  \n",
       "0         1      8696  \n",
       "1         0  13855401  \n",
       "2         0      1387  \n",
       "3         0      1230  \n",
       "4         1      1364  "
      ]
     },
     "execution_count": 50,
     "metadata": {},
     "output_type": "execute_result"
    }
   ],
   "source": [
    "products_df.head()"
   ]
  },
  {
   "cell_type": "code",
   "execution_count": 51,
   "id": "df8e9fc0",
   "metadata": {},
   "outputs": [
    {
     "data": {
      "text/html": [
       "<div>\n",
       "<style scoped>\n",
       "    .dataframe tbody tr th:only-of-type {\n",
       "        vertical-align: middle;\n",
       "    }\n",
       "\n",
       "    .dataframe tbody tr th {\n",
       "        vertical-align: top;\n",
       "    }\n",
       "\n",
       "    .dataframe thead th {\n",
       "        text-align: right;\n",
       "    }\n",
       "</style>\n",
       "<table border=\"1\" class=\"dataframe\">\n",
       "  <thead>\n",
       "    <tr style=\"text-align: right;\">\n",
       "      <th></th>\n",
       "      <th>sku</th>\n",
       "      <th>name</th>\n",
       "      <th>desc</th>\n",
       "      <th>price</th>\n",
       "      <th>promo_price</th>\n",
       "      <th>in_stock</th>\n",
       "      <th>type</th>\n",
       "    </tr>\n",
       "  </thead>\n",
       "  <tbody>\n",
       "    <tr>\n",
       "      <th>19321</th>\n",
       "      <td>BEL0376</td>\n",
       "      <td>Belkin Travel Support Apple Watch Black</td>\n",
       "      <td>compact and portable stand vertically or horiz...</td>\n",
       "      <td>29.99</td>\n",
       "      <td>269.903</td>\n",
       "      <td>1</td>\n",
       "      <td>12282</td>\n",
       "    </tr>\n",
       "    <tr>\n",
       "      <th>19322</th>\n",
       "      <td>THU0060</td>\n",
       "      <td>Enroute Thule 14L Backpack MacBook 13 \"Black</td>\n",
       "      <td>Backpack with capacity of 14 liter compartment...</td>\n",
       "      <td>69.95</td>\n",
       "      <td>649.903</td>\n",
       "      <td>1</td>\n",
       "      <td>1392</td>\n",
       "    </tr>\n",
       "    <tr>\n",
       "      <th>19323</th>\n",
       "      <td>THU0061</td>\n",
       "      <td>Enroute Thule 14L Backpack MacBook 13 \"Blue</td>\n",
       "      <td>Backpack with capacity of 14 liter compartment...</td>\n",
       "      <td>69.95</td>\n",
       "      <td>649.903</td>\n",
       "      <td>1</td>\n",
       "      <td>1392</td>\n",
       "    </tr>\n",
       "    <tr>\n",
       "      <th>19324</th>\n",
       "      <td>THU0062</td>\n",
       "      <td>Enroute Thule 14L Backpack MacBook 13 \"Red</td>\n",
       "      <td>Backpack with capacity of 14 liter compartment...</td>\n",
       "      <td>69.95</td>\n",
       "      <td>649.903</td>\n",
       "      <td>0</td>\n",
       "      <td>1392</td>\n",
       "    </tr>\n",
       "    <tr>\n",
       "      <th>19325</th>\n",
       "      <td>THU0063</td>\n",
       "      <td>Enroute Thule 14L Backpack MacBook 13 \"Green</td>\n",
       "      <td>Backpack with capacity of 14 liter compartment...</td>\n",
       "      <td>69.95</td>\n",
       "      <td>649.903</td>\n",
       "      <td>1</td>\n",
       "      <td>1392</td>\n",
       "    </tr>\n",
       "  </tbody>\n",
       "</table>\n",
       "</div>"
      ],
      "text/plain": [
       "           sku                                          name  \\\n",
       "19321  BEL0376       Belkin Travel Support Apple Watch Black   \n",
       "19322  THU0060  Enroute Thule 14L Backpack MacBook 13 \"Black   \n",
       "19323  THU0061   Enroute Thule 14L Backpack MacBook 13 \"Blue   \n",
       "19324  THU0062    Enroute Thule 14L Backpack MacBook 13 \"Red   \n",
       "19325  THU0063  Enroute Thule 14L Backpack MacBook 13 \"Green   \n",
       "\n",
       "                                                    desc  price promo_price  \\\n",
       "19321  compact and portable stand vertically or horiz...  29.99     269.903   \n",
       "19322  Backpack with capacity of 14 liter compartment...  69.95     649.903   \n",
       "19323  Backpack with capacity of 14 liter compartment...  69.95     649.903   \n",
       "19324  Backpack with capacity of 14 liter compartment...  69.95     649.903   \n",
       "19325  Backpack with capacity of 14 liter compartment...  69.95     649.903   \n",
       "\n",
       "       in_stock   type  \n",
       "19321         1  12282  \n",
       "19322         1   1392  \n",
       "19323         1   1392  \n",
       "19324         0   1392  \n",
       "19325         1   1392  "
      ]
     },
     "execution_count": 51,
     "metadata": {},
     "output_type": "execute_result"
    }
   ],
   "source": [
    "products_df.tail()"
   ]
  },
  {
   "cell_type": "code",
   "execution_count": 52,
   "id": "4d6291dc",
   "metadata": {},
   "outputs": [
    {
     "data": {
      "text/plain": [
       "sku             0\n",
       "name            0\n",
       "desc            7\n",
       "price          46\n",
       "promo_price     0\n",
       "in_stock        0\n",
       "type           50\n",
       "dtype: int64"
      ]
     },
     "execution_count": 52,
     "metadata": {},
     "output_type": "execute_result"
    }
   ],
   "source": [
    "products_df.isna().sum()"
   ]
  },
  {
   "cell_type": "code",
   "execution_count": 35,
   "id": "0fc44151",
   "metadata": {},
   "outputs": [
    {
     "data": {
      "text/plain": [
       "np.int64(8746)"
      ]
     },
     "execution_count": 35,
     "metadata": {},
     "output_type": "execute_result"
    }
   ],
   "source": [
    "products_df.duplicated().sum()"
   ]
  },
  {
   "cell_type": "markdown",
   "id": "c88f86b0",
   "metadata": {},
   "source": [
    "## Deeper Search"
   ]
  },
  {
   "cell_type": "code",
   "execution_count": 22,
   "id": "cee4f8dd",
   "metadata": {},
   "outputs": [
    {
     "data": {
      "text/plain": [
       "array(['RAI0007', 'APP0023', 'APP0025', ..., 'THU0061', 'THU0062',\n",
       "       'THU0063'], shape=(10579,), dtype=object)"
      ]
     },
     "execution_count": 22,
     "metadata": {},
     "output_type": "execute_result"
    }
   ],
   "source": [
    "products_df[\"sku\"].unique()"
   ]
  },
  {
   "cell_type": "code",
   "execution_count": 23,
   "id": "71ced711",
   "metadata": {},
   "outputs": [
    {
     "data": {
      "text/plain": [
       "array(['Aluminum support compatible with all MacBook',\n",
       "       'USB ultrathin keyboard Apple Mac Spanish.',\n",
       "       'mouse Apple USB cable.', ...,\n",
       "       'Backpack thin nylon mesh internal compartment and anti-RFID MacBook Pro 13',\n",
       "       'compact and portable stand vertically or horizontally for Apple Watch',\n",
       "       'Backpack with capacity of 14 liter compartments MacBook up to 13 inches up to 10 inches Cases'],\n",
       "      shape=(7099,), dtype=object)"
      ]
     },
     "execution_count": 23,
     "metadata": {},
     "output_type": "execute_result"
    }
   ],
   "source": [
    "products_df[\"desc\"].unique()"
   ]
  },
  {
   "cell_type": "code",
   "execution_count": 24,
   "id": "8bb5d3f9",
   "metadata": {},
   "outputs": [
    {
     "data": {
      "text/plain": [
       "array(['8696', '13855401', '1387', '1230', '1364', '1325', '5384', '1334',\n",
       "       '13005399', '13835403', '12995397', '11865403', '13955395', '1216',\n",
       "       '12355400', '5,49E+11', '1276', '11905404', '12635403', '12755395',\n",
       "       '1296', '12285400', '1229', '11935397', '12655397', '1404',\n",
       "       '101781405', '4259', '14035403', '12085400', '1282', '12175397',\n",
       "       '1424', '9094', '1405', '57445397', nan, '14305406', '10142',\n",
       "       '12645406', '10230', '12215397', '11821715', '13555403',\n",
       "       '1,44E+11', '14365395', '5405', '5395', '5398', '21485407',\n",
       "       '20642062', '1,46E+11', '1280', '12575403', '1433', '1515', '5720',\n",
       "       '1298', '13615399', '12585395', '1392', '1231', '15435404', '1375',\n",
       "       '42945397', '12141714', '42931714', '54025401', '21535407', '1416',\n",
       "       '2,17E+11', '24215399', '11434', '2425', '2434', '2449',\n",
       "       '13621714', '24861714', '24821716', '5,74E+15', '54864259',\n",
       "       '51861714', '1714', '51601716', '51871714', '5403', '54085407',\n",
       "       '24885185', '24895185', '5407', '5406', '5404', '5,44E+11',\n",
       "       '85641716', '24811716', '85651716', '2158', '1,02E+12', '51882158',\n",
       "       '5,43E+15', '5,72E+15', '5401', '12051714', '9,29E+11', '5399',\n",
       "       '1716', '21622158', '5,39E+11', '12031714', '21571716', '2,16E+11',\n",
       "       '106431714', '21632158', '21561716', '79201715', '51902158',\n",
       "       '5185', '113291716', '113281716', '113271716', '113464259',\n",
       "       '5,45E+15', '113851714', '11859', '118692158', '51912158', '12282'],\n",
       "      dtype=object)"
      ]
     },
     "execution_count": 24,
     "metadata": {},
     "output_type": "execute_result"
    }
   ],
   "source": [
    "products_df[\"type\"].unique()"
   ]
  },
  {
   "cell_type": "markdown",
   "id": "12909f53",
   "metadata": {},
   "source": [
    "# Orderlines"
   ]
  },
  {
   "cell_type": "markdown",
   "id": "aa4d6d99",
   "metadata": {},
   "source": [
    "## Information"
   ]
  },
  {
   "cell_type": "code",
   "execution_count": 28,
   "id": "d9a96353",
   "metadata": {},
   "outputs": [
    {
     "data": {
      "text/html": [
       "<div>\n",
       "<style scoped>\n",
       "    .dataframe tbody tr th:only-of-type {\n",
       "        vertical-align: middle;\n",
       "    }\n",
       "\n",
       "    .dataframe tbody tr th {\n",
       "        vertical-align: top;\n",
       "    }\n",
       "\n",
       "    .dataframe thead th {\n",
       "        text-align: right;\n",
       "    }\n",
       "</style>\n",
       "<table border=\"1\" class=\"dataframe\">\n",
       "  <thead>\n",
       "    <tr style=\"text-align: right;\">\n",
       "      <th></th>\n",
       "      <th>id</th>\n",
       "      <th>id_order</th>\n",
       "      <th>product_id</th>\n",
       "      <th>product_quantity</th>\n",
       "      <th>sku</th>\n",
       "      <th>unit_price</th>\n",
       "      <th>date</th>\n",
       "    </tr>\n",
       "  </thead>\n",
       "  <tbody>\n",
       "    <tr>\n",
       "      <th>0</th>\n",
       "      <td>1119109</td>\n",
       "      <td>299539</td>\n",
       "      <td>0</td>\n",
       "      <td>1</td>\n",
       "      <td>OTT0133</td>\n",
       "      <td>18.99</td>\n",
       "      <td>2017-01-01 00:07:19</td>\n",
       "    </tr>\n",
       "    <tr>\n",
       "      <th>1</th>\n",
       "      <td>1119110</td>\n",
       "      <td>299540</td>\n",
       "      <td>0</td>\n",
       "      <td>1</td>\n",
       "      <td>LGE0043</td>\n",
       "      <td>399.00</td>\n",
       "      <td>2017-01-01 00:19:45</td>\n",
       "    </tr>\n",
       "    <tr>\n",
       "      <th>2</th>\n",
       "      <td>1119111</td>\n",
       "      <td>299541</td>\n",
       "      <td>0</td>\n",
       "      <td>1</td>\n",
       "      <td>PAR0071</td>\n",
       "      <td>474.05</td>\n",
       "      <td>2017-01-01 00:20:57</td>\n",
       "    </tr>\n",
       "    <tr>\n",
       "      <th>3</th>\n",
       "      <td>1119112</td>\n",
       "      <td>299542</td>\n",
       "      <td>0</td>\n",
       "      <td>1</td>\n",
       "      <td>WDT0315</td>\n",
       "      <td>68.39</td>\n",
       "      <td>2017-01-01 00:51:40</td>\n",
       "    </tr>\n",
       "    <tr>\n",
       "      <th>4</th>\n",
       "      <td>1119113</td>\n",
       "      <td>299543</td>\n",
       "      <td>0</td>\n",
       "      <td>1</td>\n",
       "      <td>JBL0104</td>\n",
       "      <td>23.74</td>\n",
       "      <td>2017-01-01 01:06:38</td>\n",
       "    </tr>\n",
       "    <tr>\n",
       "      <th>...</th>\n",
       "      <td>...</td>\n",
       "      <td>...</td>\n",
       "      <td>...</td>\n",
       "      <td>...</td>\n",
       "      <td>...</td>\n",
       "      <td>...</td>\n",
       "      <td>...</td>\n",
       "    </tr>\n",
       "    <tr>\n",
       "      <th>293978</th>\n",
       "      <td>1650199</td>\n",
       "      <td>527398</td>\n",
       "      <td>0</td>\n",
       "      <td>1</td>\n",
       "      <td>JBL0122</td>\n",
       "      <td>42.99</td>\n",
       "      <td>2018-03-14 13:57:25</td>\n",
       "    </tr>\n",
       "    <tr>\n",
       "      <th>293979</th>\n",
       "      <td>1650200</td>\n",
       "      <td>527399</td>\n",
       "      <td>0</td>\n",
       "      <td>1</td>\n",
       "      <td>PAC0653</td>\n",
       "      <td>141.58</td>\n",
       "      <td>2018-03-14 13:57:34</td>\n",
       "    </tr>\n",
       "    <tr>\n",
       "      <th>293980</th>\n",
       "      <td>1650201</td>\n",
       "      <td>527400</td>\n",
       "      <td>0</td>\n",
       "      <td>2</td>\n",
       "      <td>APP0698</td>\n",
       "      <td>9.99</td>\n",
       "      <td>2018-03-14 13:57:41</td>\n",
       "    </tr>\n",
       "    <tr>\n",
       "      <th>293981</th>\n",
       "      <td>1650202</td>\n",
       "      <td>527388</td>\n",
       "      <td>0</td>\n",
       "      <td>1</td>\n",
       "      <td>BEZ0204</td>\n",
       "      <td>19.99</td>\n",
       "      <td>2018-03-14 13:58:01</td>\n",
       "    </tr>\n",
       "    <tr>\n",
       "      <th>293982</th>\n",
       "      <td>1650203</td>\n",
       "      <td>527401</td>\n",
       "      <td>0</td>\n",
       "      <td>1</td>\n",
       "      <td>APP0927</td>\n",
       "      <td>13.99</td>\n",
       "      <td>2018-03-14 13:58:36</td>\n",
       "    </tr>\n",
       "  </tbody>\n",
       "</table>\n",
       "<p>293983 rows × 7 columns</p>\n",
       "</div>"
      ],
      "text/plain": [
       "             id  id_order  product_id  product_quantity      sku unit_price  \\\n",
       "0       1119109    299539           0                 1  OTT0133      18.99   \n",
       "1       1119110    299540           0                 1  LGE0043     399.00   \n",
       "2       1119111    299541           0                 1  PAR0071     474.05   \n",
       "3       1119112    299542           0                 1  WDT0315      68.39   \n",
       "4       1119113    299543           0                 1  JBL0104      23.74   \n",
       "...         ...       ...         ...               ...      ...        ...   \n",
       "293978  1650199    527398           0                 1  JBL0122      42.99   \n",
       "293979  1650200    527399           0                 1  PAC0653     141.58   \n",
       "293980  1650201    527400           0                 2  APP0698       9.99   \n",
       "293981  1650202    527388           0                 1  BEZ0204      19.99   \n",
       "293982  1650203    527401           0                 1  APP0927      13.99   \n",
       "\n",
       "                       date  \n",
       "0       2017-01-01 00:07:19  \n",
       "1       2017-01-01 00:19:45  \n",
       "2       2017-01-01 00:20:57  \n",
       "3       2017-01-01 00:51:40  \n",
       "4       2017-01-01 01:06:38  \n",
       "...                     ...  \n",
       "293978  2018-03-14 13:57:25  \n",
       "293979  2018-03-14 13:57:34  \n",
       "293980  2018-03-14 13:57:41  \n",
       "293981  2018-03-14 13:58:01  \n",
       "293982  2018-03-14 13:58:36  \n",
       "\n",
       "[293983 rows x 7 columns]"
      ]
     },
     "execution_count": 28,
     "metadata": {},
     "output_type": "execute_result"
    }
   ],
   "source": [
    "orderlines_df"
   ]
  },
  {
   "cell_type": "code",
   "execution_count": 25,
   "id": "4bcd2fc7",
   "metadata": {},
   "outputs": [
    {
     "name": "stdout",
     "output_type": "stream",
     "text": [
      "<class 'pandas.core.frame.DataFrame'>\n",
      "RangeIndex: 293983 entries, 0 to 293982\n",
      "Data columns (total 7 columns):\n",
      " #   Column            Non-Null Count   Dtype \n",
      "---  ------            --------------   ----- \n",
      " 0   id                293983 non-null  int64 \n",
      " 1   id_order          293983 non-null  int64 \n",
      " 2   product_id        293983 non-null  int64 \n",
      " 3   product_quantity  293983 non-null  int64 \n",
      " 4   sku               293983 non-null  object\n",
      " 5   unit_price        293983 non-null  object\n",
      " 6   date              293983 non-null  object\n",
      "dtypes: int64(4), object(3)\n",
      "memory usage: 15.7+ MB\n"
     ]
    }
   ],
   "source": [
    "orderlines_df.info()"
   ]
  },
  {
   "cell_type": "code",
   "execution_count": 44,
   "id": "9a02054b",
   "metadata": {},
   "outputs": [
    {
     "data": {
      "text/plain": [
       "(293983, 7)"
      ]
     },
     "execution_count": 44,
     "metadata": {},
     "output_type": "execute_result"
    }
   ],
   "source": [
    "orderlines_df.shape"
   ]
  },
  {
   "cell_type": "code",
   "execution_count": 45,
   "id": "c6198226",
   "metadata": {},
   "outputs": [
    {
     "data": {
      "text/html": [
       "<div>\n",
       "<style scoped>\n",
       "    .dataframe tbody tr th:only-of-type {\n",
       "        vertical-align: middle;\n",
       "    }\n",
       "\n",
       "    .dataframe tbody tr th {\n",
       "        vertical-align: top;\n",
       "    }\n",
       "\n",
       "    .dataframe thead th {\n",
       "        text-align: right;\n",
       "    }\n",
       "</style>\n",
       "<table border=\"1\" class=\"dataframe\">\n",
       "  <thead>\n",
       "    <tr style=\"text-align: right;\">\n",
       "      <th></th>\n",
       "      <th>id</th>\n",
       "      <th>id_order</th>\n",
       "      <th>product_id</th>\n",
       "      <th>product_quantity</th>\n",
       "    </tr>\n",
       "  </thead>\n",
       "  <tbody>\n",
       "    <tr>\n",
       "      <th>count</th>\n",
       "      <td>2.939830e+05</td>\n",
       "      <td>293983.000000</td>\n",
       "      <td>293983.0</td>\n",
       "      <td>293983.000000</td>\n",
       "    </tr>\n",
       "    <tr>\n",
       "      <th>mean</th>\n",
       "      <td>1.397918e+06</td>\n",
       "      <td>419999.116544</td>\n",
       "      <td>0.0</td>\n",
       "      <td>1.121126</td>\n",
       "    </tr>\n",
       "    <tr>\n",
       "      <th>std</th>\n",
       "      <td>1.530096e+05</td>\n",
       "      <td>66344.486479</td>\n",
       "      <td>0.0</td>\n",
       "      <td>3.396569</td>\n",
       "    </tr>\n",
       "    <tr>\n",
       "      <th>min</th>\n",
       "      <td>1.119109e+06</td>\n",
       "      <td>241319.000000</td>\n",
       "      <td>0.0</td>\n",
       "      <td>1.000000</td>\n",
       "    </tr>\n",
       "    <tr>\n",
       "      <th>25%</th>\n",
       "      <td>1.262542e+06</td>\n",
       "      <td>362258.500000</td>\n",
       "      <td>0.0</td>\n",
       "      <td>1.000000</td>\n",
       "    </tr>\n",
       "    <tr>\n",
       "      <th>50%</th>\n",
       "      <td>1.406940e+06</td>\n",
       "      <td>425956.000000</td>\n",
       "      <td>0.0</td>\n",
       "      <td>1.000000</td>\n",
       "    </tr>\n",
       "    <tr>\n",
       "      <th>75%</th>\n",
       "      <td>1.531322e+06</td>\n",
       "      <td>478657.000000</td>\n",
       "      <td>0.0</td>\n",
       "      <td>1.000000</td>\n",
       "    </tr>\n",
       "    <tr>\n",
       "      <th>max</th>\n",
       "      <td>1.650203e+06</td>\n",
       "      <td>527401.000000</td>\n",
       "      <td>0.0</td>\n",
       "      <td>999.000000</td>\n",
       "    </tr>\n",
       "  </tbody>\n",
       "</table>\n",
       "</div>"
      ],
      "text/plain": [
       "                 id       id_order  product_id  product_quantity\n",
       "count  2.939830e+05  293983.000000    293983.0     293983.000000\n",
       "mean   1.397918e+06  419999.116544         0.0          1.121126\n",
       "std    1.530096e+05   66344.486479         0.0          3.396569\n",
       "min    1.119109e+06  241319.000000         0.0          1.000000\n",
       "25%    1.262542e+06  362258.500000         0.0          1.000000\n",
       "50%    1.406940e+06  425956.000000         0.0          1.000000\n",
       "75%    1.531322e+06  478657.000000         0.0          1.000000\n",
       "max    1.650203e+06  527401.000000         0.0        999.000000"
      ]
     },
     "execution_count": 45,
     "metadata": {},
     "output_type": "execute_result"
    }
   ],
   "source": [
    "orderlines_df.describe()"
   ]
  },
  {
   "cell_type": "code",
   "execution_count": 46,
   "id": "2d4e4d7f",
   "metadata": {},
   "outputs": [
    {
     "data": {
      "text/plain": [
       "id                  293983\n",
       "id_order            204855\n",
       "product_id               1\n",
       "product_quantity        67\n",
       "sku                   7951\n",
       "unit_price           11329\n",
       "date                251631\n",
       "dtype: int64"
      ]
     },
     "execution_count": 46,
     "metadata": {},
     "output_type": "execute_result"
    }
   ],
   "source": [
    "orderlines_df.nunique()"
   ]
  },
  {
   "cell_type": "code",
   "execution_count": 53,
   "id": "8bf50d83",
   "metadata": {},
   "outputs": [
    {
     "data": {
      "text/html": [
       "<div>\n",
       "<style scoped>\n",
       "    .dataframe tbody tr th:only-of-type {\n",
       "        vertical-align: middle;\n",
       "    }\n",
       "\n",
       "    .dataframe tbody tr th {\n",
       "        vertical-align: top;\n",
       "    }\n",
       "\n",
       "    .dataframe thead th {\n",
       "        text-align: right;\n",
       "    }\n",
       "</style>\n",
       "<table border=\"1\" class=\"dataframe\">\n",
       "  <thead>\n",
       "    <tr style=\"text-align: right;\">\n",
       "      <th></th>\n",
       "      <th>id</th>\n",
       "      <th>id_order</th>\n",
       "      <th>product_id</th>\n",
       "      <th>product_quantity</th>\n",
       "      <th>sku</th>\n",
       "      <th>unit_price</th>\n",
       "      <th>date</th>\n",
       "    </tr>\n",
       "  </thead>\n",
       "  <tbody>\n",
       "    <tr>\n",
       "      <th>0</th>\n",
       "      <td>1119109</td>\n",
       "      <td>299539</td>\n",
       "      <td>0</td>\n",
       "      <td>1</td>\n",
       "      <td>OTT0133</td>\n",
       "      <td>18.99</td>\n",
       "      <td>2017-01-01 00:07:19</td>\n",
       "    </tr>\n",
       "    <tr>\n",
       "      <th>1</th>\n",
       "      <td>1119110</td>\n",
       "      <td>299540</td>\n",
       "      <td>0</td>\n",
       "      <td>1</td>\n",
       "      <td>LGE0043</td>\n",
       "      <td>399.00</td>\n",
       "      <td>2017-01-01 00:19:45</td>\n",
       "    </tr>\n",
       "    <tr>\n",
       "      <th>2</th>\n",
       "      <td>1119111</td>\n",
       "      <td>299541</td>\n",
       "      <td>0</td>\n",
       "      <td>1</td>\n",
       "      <td>PAR0071</td>\n",
       "      <td>474.05</td>\n",
       "      <td>2017-01-01 00:20:57</td>\n",
       "    </tr>\n",
       "    <tr>\n",
       "      <th>3</th>\n",
       "      <td>1119112</td>\n",
       "      <td>299542</td>\n",
       "      <td>0</td>\n",
       "      <td>1</td>\n",
       "      <td>WDT0315</td>\n",
       "      <td>68.39</td>\n",
       "      <td>2017-01-01 00:51:40</td>\n",
       "    </tr>\n",
       "    <tr>\n",
       "      <th>4</th>\n",
       "      <td>1119113</td>\n",
       "      <td>299543</td>\n",
       "      <td>0</td>\n",
       "      <td>1</td>\n",
       "      <td>JBL0104</td>\n",
       "      <td>23.74</td>\n",
       "      <td>2017-01-01 01:06:38</td>\n",
       "    </tr>\n",
       "  </tbody>\n",
       "</table>\n",
       "</div>"
      ],
      "text/plain": [
       "        id  id_order  product_id  product_quantity      sku unit_price  \\\n",
       "0  1119109    299539           0                 1  OTT0133      18.99   \n",
       "1  1119110    299540           0                 1  LGE0043     399.00   \n",
       "2  1119111    299541           0                 1  PAR0071     474.05   \n",
       "3  1119112    299542           0                 1  WDT0315      68.39   \n",
       "4  1119113    299543           0                 1  JBL0104      23.74   \n",
       "\n",
       "                  date  \n",
       "0  2017-01-01 00:07:19  \n",
       "1  2017-01-01 00:19:45  \n",
       "2  2017-01-01 00:20:57  \n",
       "3  2017-01-01 00:51:40  \n",
       "4  2017-01-01 01:06:38  "
      ]
     },
     "execution_count": 53,
     "metadata": {},
     "output_type": "execute_result"
    }
   ],
   "source": [
    "orderlines_df.head()"
   ]
  },
  {
   "cell_type": "code",
   "execution_count": 54,
   "id": "40e65461",
   "metadata": {},
   "outputs": [
    {
     "data": {
      "text/html": [
       "<div>\n",
       "<style scoped>\n",
       "    .dataframe tbody tr th:only-of-type {\n",
       "        vertical-align: middle;\n",
       "    }\n",
       "\n",
       "    .dataframe tbody tr th {\n",
       "        vertical-align: top;\n",
       "    }\n",
       "\n",
       "    .dataframe thead th {\n",
       "        text-align: right;\n",
       "    }\n",
       "</style>\n",
       "<table border=\"1\" class=\"dataframe\">\n",
       "  <thead>\n",
       "    <tr style=\"text-align: right;\">\n",
       "      <th></th>\n",
       "      <th>id</th>\n",
       "      <th>id_order</th>\n",
       "      <th>product_id</th>\n",
       "      <th>product_quantity</th>\n",
       "      <th>sku</th>\n",
       "      <th>unit_price</th>\n",
       "      <th>date</th>\n",
       "    </tr>\n",
       "  </thead>\n",
       "  <tbody>\n",
       "    <tr>\n",
       "      <th>293978</th>\n",
       "      <td>1650199</td>\n",
       "      <td>527398</td>\n",
       "      <td>0</td>\n",
       "      <td>1</td>\n",
       "      <td>JBL0122</td>\n",
       "      <td>42.99</td>\n",
       "      <td>2018-03-14 13:57:25</td>\n",
       "    </tr>\n",
       "    <tr>\n",
       "      <th>293979</th>\n",
       "      <td>1650200</td>\n",
       "      <td>527399</td>\n",
       "      <td>0</td>\n",
       "      <td>1</td>\n",
       "      <td>PAC0653</td>\n",
       "      <td>141.58</td>\n",
       "      <td>2018-03-14 13:57:34</td>\n",
       "    </tr>\n",
       "    <tr>\n",
       "      <th>293980</th>\n",
       "      <td>1650201</td>\n",
       "      <td>527400</td>\n",
       "      <td>0</td>\n",
       "      <td>2</td>\n",
       "      <td>APP0698</td>\n",
       "      <td>9.99</td>\n",
       "      <td>2018-03-14 13:57:41</td>\n",
       "    </tr>\n",
       "    <tr>\n",
       "      <th>293981</th>\n",
       "      <td>1650202</td>\n",
       "      <td>527388</td>\n",
       "      <td>0</td>\n",
       "      <td>1</td>\n",
       "      <td>BEZ0204</td>\n",
       "      <td>19.99</td>\n",
       "      <td>2018-03-14 13:58:01</td>\n",
       "    </tr>\n",
       "    <tr>\n",
       "      <th>293982</th>\n",
       "      <td>1650203</td>\n",
       "      <td>527401</td>\n",
       "      <td>0</td>\n",
       "      <td>1</td>\n",
       "      <td>APP0927</td>\n",
       "      <td>13.99</td>\n",
       "      <td>2018-03-14 13:58:36</td>\n",
       "    </tr>\n",
       "  </tbody>\n",
       "</table>\n",
       "</div>"
      ],
      "text/plain": [
       "             id  id_order  product_id  product_quantity      sku unit_price  \\\n",
       "293978  1650199    527398           0                 1  JBL0122      42.99   \n",
       "293979  1650200    527399           0                 1  PAC0653     141.58   \n",
       "293980  1650201    527400           0                 2  APP0698       9.99   \n",
       "293981  1650202    527388           0                 1  BEZ0204      19.99   \n",
       "293982  1650203    527401           0                 1  APP0927      13.99   \n",
       "\n",
       "                       date  \n",
       "293978  2018-03-14 13:57:25  \n",
       "293979  2018-03-14 13:57:34  \n",
       "293980  2018-03-14 13:57:41  \n",
       "293981  2018-03-14 13:58:01  \n",
       "293982  2018-03-14 13:58:36  "
      ]
     },
     "execution_count": 54,
     "metadata": {},
     "output_type": "execute_result"
    }
   ],
   "source": [
    "orderlines_df.tail()"
   ]
  },
  {
   "cell_type": "code",
   "execution_count": 55,
   "id": "1af2f662",
   "metadata": {},
   "outputs": [
    {
     "data": {
      "text/plain": [
       "id                  0\n",
       "id_order            0\n",
       "product_id          0\n",
       "product_quantity    0\n",
       "sku                 0\n",
       "unit_price          0\n",
       "date                0\n",
       "dtype: int64"
      ]
     },
     "execution_count": 55,
     "metadata": {},
     "output_type": "execute_result"
    }
   ],
   "source": [
    "orderlines_df.isna().sum()"
   ]
  },
  {
   "cell_type": "code",
   "execution_count": 30,
   "id": "5fb64b35",
   "metadata": {},
   "outputs": [
    {
     "data": {
      "text/plain": [
       "np.int64(0)"
      ]
     },
     "execution_count": 30,
     "metadata": {},
     "output_type": "execute_result"
    }
   ],
   "source": [
    "orderlines_df.duplicated().sum()"
   ]
  },
  {
   "cell_type": "markdown",
   "id": "1ab28c70",
   "metadata": {},
   "source": [
    "## Deeper Search"
   ]
  },
  {
   "cell_type": "code",
   "execution_count": 56,
   "id": "09d80abe",
   "metadata": {},
   "outputs": [
    {
     "name": "stdout",
     "output_type": "stream",
     "text": [
      "<class 'pandas.core.series.Series'>\n",
      "RangeIndex: 293983 entries, 0 to 293982\n",
      "Series name: sku\n",
      "Non-Null Count   Dtype \n",
      "--------------   ----- \n",
      "293983 non-null  object\n",
      "dtypes: object(1)\n",
      "memory usage: 2.2+ MB\n"
     ]
    }
   ],
   "source": [
    "orderlines_df[\"sku\"].info()"
   ]
  },
  {
   "cell_type": "markdown",
   "id": "b941f111",
   "metadata": {},
   "source": [
    "# Brands"
   ]
  },
  {
   "cell_type": "markdown",
   "id": "8a0412b2",
   "metadata": {},
   "source": [
    "## Information"
   ]
  },
  {
   "cell_type": "code",
   "execution_count": 27,
   "id": "119aa01e",
   "metadata": {},
   "outputs": [
    {
     "data": {
      "text/html": [
       "<div>\n",
       "<style scoped>\n",
       "    .dataframe tbody tr th:only-of-type {\n",
       "        vertical-align: middle;\n",
       "    }\n",
       "\n",
       "    .dataframe tbody tr th {\n",
       "        vertical-align: top;\n",
       "    }\n",
       "\n",
       "    .dataframe thead th {\n",
       "        text-align: right;\n",
       "    }\n",
       "</style>\n",
       "<table border=\"1\" class=\"dataframe\">\n",
       "  <thead>\n",
       "    <tr style=\"text-align: right;\">\n",
       "      <th></th>\n",
       "      <th>short</th>\n",
       "      <th>long</th>\n",
       "    </tr>\n",
       "  </thead>\n",
       "  <tbody>\n",
       "    <tr>\n",
       "      <th>0</th>\n",
       "      <td>8MO</td>\n",
       "      <td>8Mobility</td>\n",
       "    </tr>\n",
       "    <tr>\n",
       "      <th>1</th>\n",
       "      <td>ACM</td>\n",
       "      <td>Acme</td>\n",
       "    </tr>\n",
       "    <tr>\n",
       "      <th>2</th>\n",
       "      <td>ADN</td>\n",
       "      <td>Adonit</td>\n",
       "    </tr>\n",
       "    <tr>\n",
       "      <th>3</th>\n",
       "      <td>AII</td>\n",
       "      <td>Aiino</td>\n",
       "    </tr>\n",
       "    <tr>\n",
       "      <th>4</th>\n",
       "      <td>AKI</td>\n",
       "      <td>Akitio</td>\n",
       "    </tr>\n",
       "    <tr>\n",
       "      <th>...</th>\n",
       "      <td>...</td>\n",
       "      <td>...</td>\n",
       "    </tr>\n",
       "    <tr>\n",
       "      <th>182</th>\n",
       "      <td>XOO</td>\n",
       "      <td>Xoopar</td>\n",
       "    </tr>\n",
       "    <tr>\n",
       "      <th>183</th>\n",
       "      <td>XRI</td>\n",
       "      <td>X-Rite</td>\n",
       "    </tr>\n",
       "    <tr>\n",
       "      <th>184</th>\n",
       "      <td>XTO</td>\n",
       "      <td>Xtorm</td>\n",
       "    </tr>\n",
       "    <tr>\n",
       "      <th>185</th>\n",
       "      <td>ZAG</td>\n",
       "      <td>ZaggKeys</td>\n",
       "    </tr>\n",
       "    <tr>\n",
       "      <th>186</th>\n",
       "      <td>ZEP</td>\n",
       "      <td>Zepp</td>\n",
       "    </tr>\n",
       "  </tbody>\n",
       "</table>\n",
       "<p>187 rows × 2 columns</p>\n",
       "</div>"
      ],
      "text/plain": [
       "    short       long\n",
       "0     8MO  8Mobility\n",
       "1     ACM       Acme\n",
       "2     ADN     Adonit\n",
       "3     AII      Aiino\n",
       "4     AKI     Akitio\n",
       "..    ...        ...\n",
       "182   XOO     Xoopar\n",
       "183   XRI     X-Rite\n",
       "184   XTO      Xtorm\n",
       "185   ZAG   ZaggKeys\n",
       "186   ZEP       Zepp\n",
       "\n",
       "[187 rows x 2 columns]"
      ]
     },
     "execution_count": 27,
     "metadata": {},
     "output_type": "execute_result"
    }
   ],
   "source": [
    "brands_df"
   ]
  },
  {
   "cell_type": "code",
   "execution_count": 26,
   "id": "054afb9b",
   "metadata": {},
   "outputs": [
    {
     "name": "stdout",
     "output_type": "stream",
     "text": [
      "<class 'pandas.core.frame.DataFrame'>\n",
      "RangeIndex: 187 entries, 0 to 186\n",
      "Data columns (total 2 columns):\n",
      " #   Column  Non-Null Count  Dtype \n",
      "---  ------  --------------  ----- \n",
      " 0   short   187 non-null    object\n",
      " 1   long    187 non-null    object\n",
      "dtypes: object(2)\n",
      "memory usage: 3.1+ KB\n"
     ]
    }
   ],
   "source": [
    "brands_df.info()"
   ]
  },
  {
   "cell_type": "code",
   "execution_count": 58,
   "id": "8ae2728a",
   "metadata": {},
   "outputs": [
    {
     "data": {
      "text/plain": [
       "(187, 2)"
      ]
     },
     "execution_count": 58,
     "metadata": {},
     "output_type": "execute_result"
    }
   ],
   "source": [
    "brands_df.shape"
   ]
  },
  {
   "cell_type": "code",
   "execution_count": 59,
   "id": "fb0ba748",
   "metadata": {},
   "outputs": [
    {
     "data": {
      "text/html": [
       "<div>\n",
       "<style scoped>\n",
       "    .dataframe tbody tr th:only-of-type {\n",
       "        vertical-align: middle;\n",
       "    }\n",
       "\n",
       "    .dataframe tbody tr th {\n",
       "        vertical-align: top;\n",
       "    }\n",
       "\n",
       "    .dataframe thead th {\n",
       "        text-align: right;\n",
       "    }\n",
       "</style>\n",
       "<table border=\"1\" class=\"dataframe\">\n",
       "  <thead>\n",
       "    <tr style=\"text-align: right;\">\n",
       "      <th></th>\n",
       "      <th>short</th>\n",
       "      <th>long</th>\n",
       "    </tr>\n",
       "  </thead>\n",
       "  <tbody>\n",
       "    <tr>\n",
       "      <th>count</th>\n",
       "      <td>187</td>\n",
       "      <td>187</td>\n",
       "    </tr>\n",
       "    <tr>\n",
       "      <th>unique</th>\n",
       "      <td>187</td>\n",
       "      <td>181</td>\n",
       "    </tr>\n",
       "    <tr>\n",
       "      <th>top</th>\n",
       "      <td>8MO</td>\n",
       "      <td>Apple</td>\n",
       "    </tr>\n",
       "    <tr>\n",
       "      <th>freq</th>\n",
       "      <td>1</td>\n",
       "      <td>2</td>\n",
       "    </tr>\n",
       "  </tbody>\n",
       "</table>\n",
       "</div>"
      ],
      "text/plain": [
       "       short   long\n",
       "count    187    187\n",
       "unique   187    181\n",
       "top      8MO  Apple\n",
       "freq       1      2"
      ]
     },
     "execution_count": 59,
     "metadata": {},
     "output_type": "execute_result"
    }
   ],
   "source": [
    "brands_df.describe()"
   ]
  },
  {
   "cell_type": "code",
   "execution_count": 60,
   "id": "d5be7a6a",
   "metadata": {},
   "outputs": [
    {
     "data": {
      "text/plain": [
       "short    187\n",
       "long     181\n",
       "dtype: int64"
      ]
     },
     "execution_count": 60,
     "metadata": {},
     "output_type": "execute_result"
    }
   ],
   "source": [
    "brands_df.nunique()"
   ]
  },
  {
   "cell_type": "code",
   "execution_count": 61,
   "id": "64a4e7b9",
   "metadata": {},
   "outputs": [
    {
     "data": {
      "text/html": [
       "<div>\n",
       "<style scoped>\n",
       "    .dataframe tbody tr th:only-of-type {\n",
       "        vertical-align: middle;\n",
       "    }\n",
       "\n",
       "    .dataframe tbody tr th {\n",
       "        vertical-align: top;\n",
       "    }\n",
       "\n",
       "    .dataframe thead th {\n",
       "        text-align: right;\n",
       "    }\n",
       "</style>\n",
       "<table border=\"1\" class=\"dataframe\">\n",
       "  <thead>\n",
       "    <tr style=\"text-align: right;\">\n",
       "      <th></th>\n",
       "      <th>short</th>\n",
       "      <th>long</th>\n",
       "    </tr>\n",
       "  </thead>\n",
       "  <tbody>\n",
       "    <tr>\n",
       "      <th>0</th>\n",
       "      <td>8MO</td>\n",
       "      <td>8Mobility</td>\n",
       "    </tr>\n",
       "    <tr>\n",
       "      <th>1</th>\n",
       "      <td>ACM</td>\n",
       "      <td>Acme</td>\n",
       "    </tr>\n",
       "    <tr>\n",
       "      <th>2</th>\n",
       "      <td>ADN</td>\n",
       "      <td>Adonit</td>\n",
       "    </tr>\n",
       "    <tr>\n",
       "      <th>3</th>\n",
       "      <td>AII</td>\n",
       "      <td>Aiino</td>\n",
       "    </tr>\n",
       "    <tr>\n",
       "      <th>4</th>\n",
       "      <td>AKI</td>\n",
       "      <td>Akitio</td>\n",
       "    </tr>\n",
       "  </tbody>\n",
       "</table>\n",
       "</div>"
      ],
      "text/plain": [
       "  short       long\n",
       "0   8MO  8Mobility\n",
       "1   ACM       Acme\n",
       "2   ADN     Adonit\n",
       "3   AII      Aiino\n",
       "4   AKI     Akitio"
      ]
     },
     "execution_count": 61,
     "metadata": {},
     "output_type": "execute_result"
    }
   ],
   "source": [
    "brands_df.head()"
   ]
  },
  {
   "cell_type": "code",
   "execution_count": 62,
   "id": "9e58b0c8",
   "metadata": {},
   "outputs": [
    {
     "data": {
      "text/html": [
       "<div>\n",
       "<style scoped>\n",
       "    .dataframe tbody tr th:only-of-type {\n",
       "        vertical-align: middle;\n",
       "    }\n",
       "\n",
       "    .dataframe tbody tr th {\n",
       "        vertical-align: top;\n",
       "    }\n",
       "\n",
       "    .dataframe thead th {\n",
       "        text-align: right;\n",
       "    }\n",
       "</style>\n",
       "<table border=\"1\" class=\"dataframe\">\n",
       "  <thead>\n",
       "    <tr style=\"text-align: right;\">\n",
       "      <th></th>\n",
       "      <th>short</th>\n",
       "      <th>long</th>\n",
       "    </tr>\n",
       "  </thead>\n",
       "  <tbody>\n",
       "    <tr>\n",
       "      <th>182</th>\n",
       "      <td>XOO</td>\n",
       "      <td>Xoopar</td>\n",
       "    </tr>\n",
       "    <tr>\n",
       "      <th>183</th>\n",
       "      <td>XRI</td>\n",
       "      <td>X-Rite</td>\n",
       "    </tr>\n",
       "    <tr>\n",
       "      <th>184</th>\n",
       "      <td>XTO</td>\n",
       "      <td>Xtorm</td>\n",
       "    </tr>\n",
       "    <tr>\n",
       "      <th>185</th>\n",
       "      <td>ZAG</td>\n",
       "      <td>ZaggKeys</td>\n",
       "    </tr>\n",
       "    <tr>\n",
       "      <th>186</th>\n",
       "      <td>ZEP</td>\n",
       "      <td>Zepp</td>\n",
       "    </tr>\n",
       "  </tbody>\n",
       "</table>\n",
       "</div>"
      ],
      "text/plain": [
       "    short      long\n",
       "182   XOO    Xoopar\n",
       "183   XRI    X-Rite\n",
       "184   XTO     Xtorm\n",
       "185   ZAG  ZaggKeys\n",
       "186   ZEP      Zepp"
      ]
     },
     "execution_count": 62,
     "metadata": {},
     "output_type": "execute_result"
    }
   ],
   "source": [
    "brands_df.tail()"
   ]
  },
  {
   "cell_type": "code",
   "execution_count": 63,
   "id": "bc1c190e",
   "metadata": {},
   "outputs": [
    {
     "data": {
      "text/plain": [
       "short    0\n",
       "long     0\n",
       "dtype: int64"
      ]
     },
     "execution_count": 63,
     "metadata": {},
     "output_type": "execute_result"
    }
   ],
   "source": [
    "brands_df.isna().sum()"
   ]
  },
  {
   "cell_type": "code",
   "execution_count": 64,
   "id": "858bf3d9",
   "metadata": {},
   "outputs": [
    {
     "data": {
      "text/plain": [
       "np.int64(0)"
      ]
     },
     "execution_count": 64,
     "metadata": {},
     "output_type": "execute_result"
    }
   ],
   "source": [
    "brands_df.duplicated().sum()"
   ]
  },
  {
   "cell_type": "markdown",
   "id": "92455346",
   "metadata": {},
   "source": [
    "## Deeper Search"
   ]
  }
 ],
 "metadata": {
  "kernelspec": {
   "display_name": "Python 3",
   "language": "python",
   "name": "python3"
  },
  "language_info": {
   "codemirror_mode": {
    "name": "ipython",
    "version": 3
   },
   "file_extension": ".py",
   "mimetype": "text/x-python",
   "name": "python",
   "nbconvert_exporter": "python",
   "pygments_lexer": "ipython3",
   "version": "3.13.3"
  }
 },
 "nbformat": 4,
 "nbformat_minor": 5
}
