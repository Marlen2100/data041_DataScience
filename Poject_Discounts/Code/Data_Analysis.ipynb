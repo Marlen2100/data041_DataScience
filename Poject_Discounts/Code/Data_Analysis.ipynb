{
 "cells": [
  {
   "cell_type": "code",
   "execution_count": 700,
   "id": "eb83f108",
   "metadata": {},
   "outputs": [],
   "source": [
    "import pandas as pd\n",
    "import seaborn as sns\n",
    "import matplotlib.pyplot as plt"
   ]
  },
  {
   "cell_type": "code",
   "execution_count": 701,
   "id": "6d02f272",
   "metadata": {},
   "outputs": [],
   "source": [
    "pd.set_option('display.float_format', lambda x: '%.2f' % x)"
   ]
  },
  {
   "cell_type": "code",
   "execution_count": 702,
   "id": "99f8fb76",
   "metadata": {},
   "outputs": [],
   "source": [
    "order_ql = pd.read_csv(\"Orders_Quality_without_Outliers_C.csv\")\n",
    "orderlines_ql = pd.read_csv(\"Orderlines_Quality_without_Outliers_C.csv\")\n",
    "products_ql = pd.read_csv(\"Products_Quality_C.csv\")\n",
    "\n",
    "brands_cl = pd.read_csv(\"brands.csv\")\n",
    "product_category = pd.read_csv(\"products_completed_category.csv\")"
   ]
  },
  {
   "cell_type": "code",
   "execution_count": 703,
   "id": "adc80d7f",
   "metadata": {},
   "outputs": [],
   "source": [
    "orderlines_ql[\"date\"] = pd.to_datetime(orderlines_ql[\"date\"])\n",
    "order_ql[\"created_date\"] = pd.to_datetime(order_ql[\"created_date\"])"
   ]
  },
  {
   "cell_type": "markdown",
   "id": "50c64992",
   "metadata": {},
   "source": [
    "## Categorys"
   ]
  },
  {
   "cell_type": "code",
   "execution_count": 704,
   "id": "83d97205",
   "metadata": {},
   "outputs": [
    {
     "data": {
      "text/plain": [
       "0           8696\n",
       "1       13855401\n",
       "2           1387\n",
       "3           1230\n",
       "4           1364\n",
       "          ...   \n",
       "5931    13835403\n",
       "5932    13835403\n",
       "5933    13835403\n",
       "5934    13835403\n",
       "5935    13835403\n",
       "Name: type, Length: 5936, dtype: object"
      ]
     },
     "execution_count": 704,
     "metadata": {},
     "output_type": "execute_result"
    }
   ],
   "source": [
    "products_ql[\"type\"]"
   ]
  },
  {
   "cell_type": "code",
   "execution_count": 705,
   "id": "a450e511",
   "metadata": {},
   "outputs": [
    {
     "name": "stdout",
     "output_type": "stream",
     "text": [
      "With the 60 largest types, we account for 92.28% of all products.\n"
     ]
    }
   ],
   "source": [
    "n = 60\n",
    "print(f\"With the {n} largest types, we account for {((products_ql.groupby('type').count().nlargest(n, 'sku')['sku'].sum()) / (products_ql.shape[0]) * 100).round(2)}% of all products.\")"
   ]
  },
  {
   "cell_type": "code",
   "execution_count": 706,
   "id": "8a3a9998",
   "metadata": {},
   "outputs": [],
   "source": [
    "needed_categorys = product_category[[\"sku\",\"category\"]]"
   ]
  },
  {
   "cell_type": "code",
   "execution_count": 707,
   "id": "3bced09d",
   "metadata": {},
   "outputs": [],
   "source": [
    "products_ql = products_ql.merge(needed_categorys, on=\"sku\", how=\"inner\")"
   ]
  },
  {
   "cell_type": "markdown",
   "id": "73d7d34b",
   "metadata": {},
   "source": [
    "## Answer Questions"
   ]
  },
  {
   "cell_type": "markdown",
   "id": "1db2860d",
   "metadata": {},
   "source": [
    "1. What is the time period that the dataset covers?\n",
    "2. What is the overall revenue for that time?\n",
    "3. Are there seasonal patterns in the evolution of sales?\n",
    "4. What are the most sold products?\n",
    "5. What are the products that generate the most revenue?\n",
    "6. A critical question is whether revenue grows whenever discounts increase."
   ]
  },
  {
   "cell_type": "markdown",
   "id": "2f338a92",
   "metadata": {},
   "source": [
    "1."
   ]
  },
  {
   "cell_type": "code",
   "execution_count": 708,
   "id": "9ce63500",
   "metadata": {},
   "outputs": [
    {
     "data": {
      "text/html": [
       "<div>\n",
       "<style scoped>\n",
       "    .dataframe tbody tr th:only-of-type {\n",
       "        vertical-align: middle;\n",
       "    }\n",
       "\n",
       "    .dataframe tbody tr th {\n",
       "        vertical-align: top;\n",
       "    }\n",
       "\n",
       "    .dataframe thead th {\n",
       "        text-align: right;\n",
       "    }\n",
       "</style>\n",
       "<table border=\"1\" class=\"dataframe\">\n",
       "  <thead>\n",
       "    <tr style=\"text-align: right;\">\n",
       "      <th></th>\n",
       "      <th></th>\n",
       "      <th>order_id</th>\n",
       "      <th>created_date</th>\n",
       "      <th>total_paid</th>\n",
       "      <th>state</th>\n",
       "      <th>unit_price_total</th>\n",
       "      <th>difference</th>\n",
       "    </tr>\n",
       "    <tr>\n",
       "      <th>created_date</th>\n",
       "      <th>created_date</th>\n",
       "      <th></th>\n",
       "      <th></th>\n",
       "      <th></th>\n",
       "      <th></th>\n",
       "      <th></th>\n",
       "      <th></th>\n",
       "    </tr>\n",
       "  </thead>\n",
       "  <tbody>\n",
       "    <tr>\n",
       "      <th rowspan=\"12\" valign=\"top\">2017</th>\n",
       "      <th>April</th>\n",
       "      <td>1578</td>\n",
       "      <td>1578</td>\n",
       "      <td>1578</td>\n",
       "      <td>1578</td>\n",
       "      <td>1578</td>\n",
       "      <td>1578</td>\n",
       "    </tr>\n",
       "    <tr>\n",
       "      <th>August</th>\n",
       "      <td>2302</td>\n",
       "      <td>2302</td>\n",
       "      <td>2302</td>\n",
       "      <td>2302</td>\n",
       "      <td>2302</td>\n",
       "      <td>2302</td>\n",
       "    </tr>\n",
       "    <tr>\n",
       "      <th>December</th>\n",
       "      <td>5394</td>\n",
       "      <td>5394</td>\n",
       "      <td>5394</td>\n",
       "      <td>5394</td>\n",
       "      <td>5394</td>\n",
       "      <td>5394</td>\n",
       "    </tr>\n",
       "    <tr>\n",
       "      <th>February</th>\n",
       "      <td>2243</td>\n",
       "      <td>2243</td>\n",
       "      <td>2243</td>\n",
       "      <td>2243</td>\n",
       "      <td>2243</td>\n",
       "      <td>2243</td>\n",
       "    </tr>\n",
       "    <tr>\n",
       "      <th>January</th>\n",
       "      <td>5008</td>\n",
       "      <td>5008</td>\n",
       "      <td>5008</td>\n",
       "      <td>5008</td>\n",
       "      <td>5008</td>\n",
       "      <td>5008</td>\n",
       "    </tr>\n",
       "    <tr>\n",
       "      <th>July</th>\n",
       "      <td>3313</td>\n",
       "      <td>3313</td>\n",
       "      <td>3313</td>\n",
       "      <td>3313</td>\n",
       "      <td>3313</td>\n",
       "      <td>3313</td>\n",
       "    </tr>\n",
       "    <tr>\n",
       "      <th>June</th>\n",
       "      <td>1523</td>\n",
       "      <td>1523</td>\n",
       "      <td>1523</td>\n",
       "      <td>1523</td>\n",
       "      <td>1523</td>\n",
       "      <td>1523</td>\n",
       "    </tr>\n",
       "    <tr>\n",
       "      <th>March</th>\n",
       "      <td>198</td>\n",
       "      <td>198</td>\n",
       "      <td>198</td>\n",
       "      <td>198</td>\n",
       "      <td>198</td>\n",
       "      <td>198</td>\n",
       "    </tr>\n",
       "    <tr>\n",
       "      <th>May</th>\n",
       "      <td>1832</td>\n",
       "      <td>1832</td>\n",
       "      <td>1832</td>\n",
       "      <td>1832</td>\n",
       "      <td>1832</td>\n",
       "      <td>1832</td>\n",
       "    </tr>\n",
       "    <tr>\n",
       "      <th>November</th>\n",
       "      <td>7025</td>\n",
       "      <td>7025</td>\n",
       "      <td>7025</td>\n",
       "      <td>7025</td>\n",
       "      <td>7025</td>\n",
       "      <td>7025</td>\n",
       "    </tr>\n",
       "    <tr>\n",
       "      <th>October</th>\n",
       "      <td>3066</td>\n",
       "      <td>3066</td>\n",
       "      <td>3066</td>\n",
       "      <td>3066</td>\n",
       "      <td>3066</td>\n",
       "      <td>3066</td>\n",
       "    </tr>\n",
       "    <tr>\n",
       "      <th>September</th>\n",
       "      <td>2130</td>\n",
       "      <td>2130</td>\n",
       "      <td>2130</td>\n",
       "      <td>2130</td>\n",
       "      <td>2130</td>\n",
       "      <td>2130</td>\n",
       "    </tr>\n",
       "    <tr>\n",
       "      <th rowspan=\"3\" valign=\"top\">2018</th>\n",
       "      <th>February</th>\n",
       "      <td>3232</td>\n",
       "      <td>3232</td>\n",
       "      <td>3232</td>\n",
       "      <td>3232</td>\n",
       "      <td>3232</td>\n",
       "      <td>3232</td>\n",
       "    </tr>\n",
       "    <tr>\n",
       "      <th>January</th>\n",
       "      <td>5116</td>\n",
       "      <td>5116</td>\n",
       "      <td>5116</td>\n",
       "      <td>5116</td>\n",
       "      <td>5116</td>\n",
       "      <td>5116</td>\n",
       "    </tr>\n",
       "    <tr>\n",
       "      <th>March</th>\n",
       "      <td>1490</td>\n",
       "      <td>1490</td>\n",
       "      <td>1490</td>\n",
       "      <td>1490</td>\n",
       "      <td>1490</td>\n",
       "      <td>1490</td>\n",
       "    </tr>\n",
       "  </tbody>\n",
       "</table>\n",
       "</div>"
      ],
      "text/plain": [
       "                           order_id  created_date  total_paid  state  \\\n",
       "created_date created_date                                              \n",
       "2017         April             1578          1578        1578   1578   \n",
       "             August            2302          2302        2302   2302   \n",
       "             December          5394          5394        5394   5394   \n",
       "             February          2243          2243        2243   2243   \n",
       "             January           5008          5008        5008   5008   \n",
       "             July              3313          3313        3313   3313   \n",
       "             June              1523          1523        1523   1523   \n",
       "             March              198           198         198    198   \n",
       "             May               1832          1832        1832   1832   \n",
       "             November          7025          7025        7025   7025   \n",
       "             October           3066          3066        3066   3066   \n",
       "             September         2130          2130        2130   2130   \n",
       "2018         February          3232          3232        3232   3232   \n",
       "             January           5116          5116        5116   5116   \n",
       "             March             1490          1490        1490   1490   \n",
       "\n",
       "                           unit_price_total  difference  \n",
       "created_date created_date                                \n",
       "2017         April                     1578        1578  \n",
       "             August                    2302        2302  \n",
       "             December                  5394        5394  \n",
       "             February                  2243        2243  \n",
       "             January                   5008        5008  \n",
       "             July                      3313        3313  \n",
       "             June                      1523        1523  \n",
       "             March                      198         198  \n",
       "             May                       1832        1832  \n",
       "             November                  7025        7025  \n",
       "             October                   3066        3066  \n",
       "             September                 2130        2130  \n",
       "2018         February                  3232        3232  \n",
       "             January                   5116        5116  \n",
       "             March                     1490        1490  "
      ]
     },
     "execution_count": 708,
     "metadata": {},
     "output_type": "execute_result"
    }
   ],
   "source": [
    "order_ql.groupby([order_ql[\"created_date\"].dt.year, order_ql[\"created_date\"].dt.month_name()]).count()"
   ]
  },
  {
   "cell_type": "code",
   "execution_count": 709,
   "id": "c6ffc38a",
   "metadata": {},
   "outputs": [],
   "source": [
    "# It covers 15 months"
   ]
  },
  {
   "cell_type": "markdown",
   "id": "e82ac917",
   "metadata": {},
   "source": [
    "2."
   ]
  },
  {
   "cell_type": "code",
   "execution_count": 710,
   "id": "373cb254",
   "metadata": {},
   "outputs": [
    {
     "data": {
      "text/plain": [
       "np.float64(15367897.219999999)"
      ]
     },
     "execution_count": 710,
     "metadata": {},
     "output_type": "execute_result"
    }
   ],
   "source": [
    "order_ql[\"total_paid\"].sum()"
   ]
  },
  {
   "cell_type": "code",
   "execution_count": 711,
   "id": "70baf667",
   "metadata": {},
   "outputs": [
    {
     "data": {
      "text/plain": [
       "created_date  created_date\n",
       "2017          April           420423.29\n",
       "              August          710623.12\n",
       "              December       1857794.76\n",
       "              February        616186.70\n",
       "              January        1158598.78\n",
       "              July           1010642.49\n",
       "              June            622050.18\n",
       "              March           114619.30\n",
       "              May             596631.17\n",
       "              November       2900997.82\n",
       "              October        1066769.02\n",
       "              September       847594.82\n",
       "2018          February       1041550.04\n",
       "              January        1932149.25\n",
       "              March           471266.48\n",
       "Name: total_paid, dtype: float64"
      ]
     },
     "execution_count": 711,
     "metadata": {},
     "output_type": "execute_result"
    }
   ],
   "source": [
    "order_ql.groupby([order_ql[\"created_date\"].dt.year, order_ql[\"created_date\"].dt.month_name()])[\"total_paid\"].sum()"
   ]
  },
  {
   "cell_type": "code",
   "execution_count": 712,
   "id": "a17e3e2e",
   "metadata": {},
   "outputs": [],
   "source": [
    "# 15_367_897.22 Euro have been gained as revenue in these 15 months"
   ]
  },
  {
   "cell_type": "markdown",
   "id": "c24e94ca",
   "metadata": {},
   "source": [
    "3."
   ]
  },
  {
   "cell_type": "code",
   "execution_count": 713,
   "id": "b316479c",
   "metadata": {},
   "outputs": [],
   "source": [
    "# Sales automatically increase once we get arount to do the holidays but discounts on those days specifically increases the sales"
   ]
  },
  {
   "cell_type": "markdown",
   "id": "75f14343",
   "metadata": {},
   "source": [
    "4."
   ]
  },
  {
   "cell_type": "code",
   "execution_count": 714,
   "id": "4a535788",
   "metadata": {},
   "outputs": [],
   "source": [
    "orderlines_ql = orderlines_ql.merge(needed_categorys, on=\"sku\", how=\"inner\")"
   ]
  },
  {
   "cell_type": "code",
   "execution_count": 715,
   "id": "6d64aa25",
   "metadata": {},
   "outputs": [
    {
     "data": {
      "text/plain": [
       "sku\n",
       "ZAG0042        1\n",
       "KIN0125        1\n",
       "AKI0016-A      1\n",
       "PAC1255        1\n",
       "PAC1226        1\n",
       "            ... \n",
       "SAM0074      317\n",
       "APP0927      381\n",
       "APP0698      487\n",
       "APP1922      523\n",
       "APP1190      926\n",
       "Name: sku, Length: 5936, dtype: int64"
      ]
     },
     "execution_count": 715,
     "metadata": {},
     "output_type": "execute_result"
    }
   ],
   "source": [
    "orderlines_ql.groupby(\"sku\")[\"sku\"].count().sort_values()"
   ]
  },
  {
   "cell_type": "code",
   "execution_count": 716,
   "id": "1bd90783",
   "metadata": {},
   "outputs": [
    {
     "data": {
      "text/html": [
       "<div>\n",
       "<style scoped>\n",
       "    .dataframe tbody tr th:only-of-type {\n",
       "        vertical-align: middle;\n",
       "    }\n",
       "\n",
       "    .dataframe tbody tr th {\n",
       "        vertical-align: top;\n",
       "    }\n",
       "\n",
       "    .dataframe thead th {\n",
       "        text-align: right;\n",
       "    }\n",
       "</style>\n",
       "<table border=\"1\" class=\"dataframe\">\n",
       "  <thead>\n",
       "    <tr style=\"text-align: right;\">\n",
       "      <th></th>\n",
       "      <th>sku</th>\n",
       "      <th>name</th>\n",
       "      <th>desc</th>\n",
       "      <th>price</th>\n",
       "      <th>in_stock</th>\n",
       "      <th>type</th>\n",
       "      <th>unit_price</th>\n",
       "      <th>category</th>\n",
       "    </tr>\n",
       "  </thead>\n",
       "  <tbody>\n",
       "    <tr>\n",
       "      <th>333</th>\n",
       "      <td>APP0698</td>\n",
       "      <td>Apple Lightning Cable Connector to USB 1m Whit...</td>\n",
       "      <td>Apple Lightning USB Cable 1 meter to charge an...</td>\n",
       "      <td>25.00</td>\n",
       "      <td>1</td>\n",
       "      <td>1230</td>\n",
       "      <td>14.99</td>\n",
       "      <td>Connectors</td>\n",
       "    </tr>\n",
       "    <tr>\n",
       "      <th>622</th>\n",
       "      <td>SAM0074</td>\n",
       "      <td>Samsung 850 EVO SSD Disk 500GB</td>\n",
       "      <td>SSD hard drive Mac and PC 25 inch 500GB SATA I...</td>\n",
       "      <td>179.99</td>\n",
       "      <td>1</td>\n",
       "      <td>12215397</td>\n",
       "      <td>189.00</td>\n",
       "      <td>Storage</td>\n",
       "    </tr>\n",
       "    <tr>\n",
       "      <th>717</th>\n",
       "      <td>APP0927</td>\n",
       "      <td>EarPods Apple Headphones with Remote and Mic (...</td>\n",
       "      <td>EarPods headphones Apple iPhone iPad and iPod ...</td>\n",
       "      <td>35.00</td>\n",
       "      <td>1</td>\n",
       "      <td>5384</td>\n",
       "      <td>23.99</td>\n",
       "      <td>I/O Device</td>\n",
       "    </tr>\n",
       "    <tr>\n",
       "      <th>1317</th>\n",
       "      <td>APP1190</td>\n",
       "      <td>IPhone AppleCare Protection Plan</td>\n",
       "      <td>Apple Care extended warranty iPhone.</td>\n",
       "      <td>70.00</td>\n",
       "      <td>1</td>\n",
       "      <td>1231</td>\n",
       "      <td>70.00</td>\n",
       "      <td>AppleCare</td>\n",
       "    </tr>\n",
       "    <tr>\n",
       "      <th>3038</th>\n",
       "      <td>APP1922</td>\n",
       "      <td>AirPods Apple Bluetooth Headset for iPhone iPa...</td>\n",
       "      <td>Apple AirPods wireless headsets and cargo tran...</td>\n",
       "      <td>179.00</td>\n",
       "      <td>1</td>\n",
       "      <td>5384</td>\n",
       "      <td>179.00</td>\n",
       "      <td>I/O Device</td>\n",
       "    </tr>\n",
       "  </tbody>\n",
       "</table>\n",
       "</div>"
      ],
      "text/plain": [
       "          sku                                               name  \\\n",
       "333   APP0698  Apple Lightning Cable Connector to USB 1m Whit...   \n",
       "622   SAM0074                     Samsung 850 EVO SSD Disk 500GB   \n",
       "717   APP0927  EarPods Apple Headphones with Remote and Mic (...   \n",
       "1317  APP1190                   IPhone AppleCare Protection Plan   \n",
       "3038  APP1922  AirPods Apple Bluetooth Headset for iPhone iPa...   \n",
       "\n",
       "                                                   desc  price  in_stock  \\\n",
       "333   Apple Lightning USB Cable 1 meter to charge an...  25.00         1   \n",
       "622   SSD hard drive Mac and PC 25 inch 500GB SATA I... 179.99         1   \n",
       "717   EarPods headphones Apple iPhone iPad and iPod ...  35.00         1   \n",
       "1317               Apple Care extended warranty iPhone.  70.00         1   \n",
       "3038  Apple AirPods wireless headsets and cargo tran... 179.00         1   \n",
       "\n",
       "          type  unit_price    category  \n",
       "333       1230       14.99  Connectors  \n",
       "622   12215397      189.00     Storage  \n",
       "717       5384       23.99  I/O Device  \n",
       "1317      1231       70.00   AppleCare  \n",
       "3038      5384      179.00  I/O Device  "
      ]
     },
     "execution_count": 716,
     "metadata": {},
     "output_type": "execute_result"
    }
   ],
   "source": [
    "products_ql.loc[products_ql[\"sku\"].isin((\"APP1190\", \"APP1922\", \"APP0698\", \"APP0927\", \"SAM0074\"))]"
   ]
  },
  {
   "cell_type": "code",
   "execution_count": 717,
   "id": "6aa6732e",
   "metadata": {},
   "outputs": [],
   "source": [
    "# The most often sold Products are apple products"
   ]
  },
  {
   "cell_type": "code",
   "execution_count": 718,
   "id": "8416fda6",
   "metadata": {},
   "outputs": [
    {
     "data": {
      "text/html": [
       "<div>\n",
       "<style scoped>\n",
       "    .dataframe tbody tr th:only-of-type {\n",
       "        vertical-align: middle;\n",
       "    }\n",
       "\n",
       "    .dataframe tbody tr th {\n",
       "        vertical-align: top;\n",
       "    }\n",
       "\n",
       "    .dataframe thead th {\n",
       "        text-align: right;\n",
       "    }\n",
       "</style>\n",
       "<table border=\"1\" class=\"dataframe\">\n",
       "  <thead>\n",
       "    <tr style=\"text-align: right;\">\n",
       "      <th></th>\n",
       "      <th>sku</th>\n",
       "    </tr>\n",
       "    <tr>\n",
       "      <th>category</th>\n",
       "      <th></th>\n",
       "    </tr>\n",
       "  </thead>\n",
       "  <tbody>\n",
       "    <tr>\n",
       "      <th>Storage</th>\n",
       "      <td>14711</td>\n",
       "    </tr>\n",
       "    <tr>\n",
       "      <th>Protective Cover</th>\n",
       "      <td>9525</td>\n",
       "    </tr>\n",
       "    <tr>\n",
       "      <th>I/O Device</th>\n",
       "      <td>8326</td>\n",
       "    </tr>\n",
       "    <tr>\n",
       "      <th>Others</th>\n",
       "      <td>6023</td>\n",
       "    </tr>\n",
       "    <tr>\n",
       "      <th>Adapter</th>\n",
       "      <td>3509</td>\n",
       "    </tr>\n",
       "    <tr>\n",
       "      <th>Connectors</th>\n",
       "      <td>3454</td>\n",
       "    </tr>\n",
       "    <tr>\n",
       "      <th>PCs</th>\n",
       "      <td>3326</td>\n",
       "    </tr>\n",
       "    <tr>\n",
       "      <th>Smartphones</th>\n",
       "      <td>2749</td>\n",
       "    </tr>\n",
       "    <tr>\n",
       "      <th>Battery</th>\n",
       "      <td>1911</td>\n",
       "    </tr>\n",
       "    <tr>\n",
       "      <th>AppleCare</th>\n",
       "      <td>1358</td>\n",
       "    </tr>\n",
       "    <tr>\n",
       "      <th>Networking</th>\n",
       "      <td>1247</td>\n",
       "    </tr>\n",
       "    <tr>\n",
       "      <th>Charger</th>\n",
       "      <td>1078</td>\n",
       "    </tr>\n",
       "    <tr>\n",
       "      <th>Support</th>\n",
       "      <td>1050</td>\n",
       "    </tr>\n",
       "    <tr>\n",
       "      <th>Tablets</th>\n",
       "      <td>766</td>\n",
       "    </tr>\n",
       "    <tr>\n",
       "      <th>Repair Kit</th>\n",
       "      <td>443</td>\n",
       "    </tr>\n",
       "    <tr>\n",
       "      <th>Straps</th>\n",
       "      <td>325</td>\n",
       "    </tr>\n",
       "    <tr>\n",
       "      <th>Media Players</th>\n",
       "      <td>229</td>\n",
       "    </tr>\n",
       "    <tr>\n",
       "      <th>Service</th>\n",
       "      <td>98</td>\n",
       "    </tr>\n",
       "    <tr>\n",
       "      <th>Smartwatches</th>\n",
       "      <td>88</td>\n",
       "    </tr>\n",
       "    <tr>\n",
       "      <th>License</th>\n",
       "      <td>39</td>\n",
       "    </tr>\n",
       "  </tbody>\n",
       "</table>\n",
       "</div>"
      ],
      "text/plain": [
       "                    sku\n",
       "category               \n",
       "Storage           14711\n",
       "Protective Cover   9525\n",
       "I/O Device         8326\n",
       "Others             6023\n",
       "Adapter            3509\n",
       "Connectors         3454\n",
       "PCs                3326\n",
       "Smartphones        2749\n",
       "Battery            1911\n",
       "AppleCare          1358\n",
       "Networking         1247\n",
       "Charger            1078\n",
       "Support            1050\n",
       "Tablets             766\n",
       "Repair Kit          443\n",
       "Straps              325\n",
       "Media Players       229\n",
       "Service              98\n",
       "Smartwatches         88\n",
       "License              39"
      ]
     },
     "execution_count": 718,
     "metadata": {},
     "output_type": "execute_result"
    }
   ],
   "source": [
    "orderlines_ql.groupby(\"category\")[[\"sku\"]].count().sort_values(by=(\"sku\"), ascending=False)"
   ]
  },
  {
   "cell_type": "code",
   "execution_count": 719,
   "id": "28478307",
   "metadata": {},
   "outputs": [],
   "source": [
    "# Storage products are sold the most"
   ]
  },
  {
   "cell_type": "markdown",
   "id": "df84ae96",
   "metadata": {},
   "source": [
    "5."
   ]
  },
  {
   "cell_type": "code",
   "execution_count": 720,
   "id": "5e14cfe7",
   "metadata": {},
   "outputs": [
    {
     "data": {
      "text/html": [
       "<div>\n",
       "<style scoped>\n",
       "    .dataframe tbody tr th:only-of-type {\n",
       "        vertical-align: middle;\n",
       "    }\n",
       "\n",
       "    .dataframe tbody tr th {\n",
       "        vertical-align: top;\n",
       "    }\n",
       "\n",
       "    .dataframe thead th {\n",
       "        text-align: right;\n",
       "    }\n",
       "</style>\n",
       "<table border=\"1\" class=\"dataframe\">\n",
       "  <thead>\n",
       "    <tr style=\"text-align: right;\">\n",
       "      <th></th>\n",
       "      <th>sku</th>\n",
       "      <th>unit_price</th>\n",
       "    </tr>\n",
       "    <tr>\n",
       "      <th>category</th>\n",
       "      <th></th>\n",
       "      <th></th>\n",
       "    </tr>\n",
       "  </thead>\n",
       "  <tbody>\n",
       "    <tr>\n",
       "      <th>PCs</th>\n",
       "      <td>3326</td>\n",
       "      <td>5958858.97</td>\n",
       "    </tr>\n",
       "    <tr>\n",
       "      <th>Storage</th>\n",
       "      <td>14711</td>\n",
       "      <td>2741470.36</td>\n",
       "    </tr>\n",
       "    <tr>\n",
       "      <th>Smartphones</th>\n",
       "      <td>2749</td>\n",
       "      <td>1838102.55</td>\n",
       "    </tr>\n",
       "    <tr>\n",
       "      <th>I/O Device</th>\n",
       "      <td>8326</td>\n",
       "      <td>1428762.88</td>\n",
       "    </tr>\n",
       "    <tr>\n",
       "      <th>Protective Cover</th>\n",
       "      <td>9525</td>\n",
       "      <td>518268.33</td>\n",
       "    </tr>\n",
       "    <tr>\n",
       "      <th>Tablets</th>\n",
       "      <td>766</td>\n",
       "      <td>491565.04</td>\n",
       "    </tr>\n",
       "    <tr>\n",
       "      <th>Others</th>\n",
       "      <td>6023</td>\n",
       "      <td>368296.19</td>\n",
       "    </tr>\n",
       "    <tr>\n",
       "      <th>Connectors</th>\n",
       "      <td>3454</td>\n",
       "      <td>250443.78</td>\n",
       "    </tr>\n",
       "    <tr>\n",
       "      <th>Networking</th>\n",
       "      <td>1247</td>\n",
       "      <td>248882.54</td>\n",
       "    </tr>\n",
       "    <tr>\n",
       "      <th>Adapter</th>\n",
       "      <td>3509</td>\n",
       "      <td>135646.56</td>\n",
       "    </tr>\n",
       "    <tr>\n",
       "      <th>AppleCare</th>\n",
       "      <td>1358</td>\n",
       "      <td>119241.84</td>\n",
       "    </tr>\n",
       "    <tr>\n",
       "      <th>Battery</th>\n",
       "      <td>1911</td>\n",
       "      <td>117132.44</td>\n",
       "    </tr>\n",
       "    <tr>\n",
       "      <th>Support</th>\n",
       "      <td>1050</td>\n",
       "      <td>54714.76</td>\n",
       "    </tr>\n",
       "    <tr>\n",
       "      <th>Charger</th>\n",
       "      <td>1078</td>\n",
       "      <td>43607.21</td>\n",
       "    </tr>\n",
       "    <tr>\n",
       "      <th>Media Players</th>\n",
       "      <td>229</td>\n",
       "      <td>40579.03</td>\n",
       "    </tr>\n",
       "    <tr>\n",
       "      <th>Smartwatches</th>\n",
       "      <td>88</td>\n",
       "      <td>19168.66</td>\n",
       "    </tr>\n",
       "    <tr>\n",
       "      <th>Repair Kit</th>\n",
       "      <td>443</td>\n",
       "      <td>13778.61</td>\n",
       "    </tr>\n",
       "    <tr>\n",
       "      <th>Straps</th>\n",
       "      <td>325</td>\n",
       "      <td>13074.80</td>\n",
       "    </tr>\n",
       "    <tr>\n",
       "      <th>Service</th>\n",
       "      <td>98</td>\n",
       "      <td>5881.06</td>\n",
       "    </tr>\n",
       "    <tr>\n",
       "      <th>License</th>\n",
       "      <td>39</td>\n",
       "      <td>4118.32</td>\n",
       "    </tr>\n",
       "  </tbody>\n",
       "</table>\n",
       "</div>"
      ],
      "text/plain": [
       "                    sku  unit_price\n",
       "category                           \n",
       "PCs                3326  5958858.97\n",
       "Storage           14711  2741470.36\n",
       "Smartphones        2749  1838102.55\n",
       "I/O Device         8326  1428762.88\n",
       "Protective Cover   9525   518268.33\n",
       "Tablets             766   491565.04\n",
       "Others             6023   368296.19\n",
       "Connectors         3454   250443.78\n",
       "Networking         1247   248882.54\n",
       "Adapter            3509   135646.56\n",
       "AppleCare          1358   119241.84\n",
       "Battery            1911   117132.44\n",
       "Support            1050    54714.76\n",
       "Charger            1078    43607.21\n",
       "Media Players       229    40579.03\n",
       "Smartwatches         88    19168.66\n",
       "Repair Kit          443    13778.61\n",
       "Straps              325    13074.80\n",
       "Service              98     5881.06\n",
       "License              39     4118.32"
      ]
     },
     "execution_count": 720,
     "metadata": {},
     "output_type": "execute_result"
    }
   ],
   "source": [
    "orderlines_ql.groupby(\"category\")[[\"sku\", \"unit_price\"]].agg({\"sku\":\"count\", \"unit_price\":\"sum\"}).sort_values(by=(\"unit_price\"), ascending=False)"
   ]
  },
  {
   "cell_type": "code",
   "execution_count": 721,
   "id": "254ba584",
   "metadata": {},
   "outputs": [],
   "source": [
    "# PC products bring in the most revenue"
   ]
  },
  {
   "cell_type": "code",
   "execution_count": 722,
   "id": "6d3df034",
   "metadata": {},
   "outputs": [
    {
     "data": {
      "text/plain": [
       "sku\n",
       "SEV0021          0.01\n",
       "SEV0018          0.01\n",
       "PAR0037          1.99\n",
       "NTE0087-A        2.82\n",
       "IFX0017          2.99\n",
       "               ...   \n",
       "PAC2136     124489.95\n",
       "APP2489     131240.00\n",
       "APP2490     137201.00\n",
       "APP2074     156383.56\n",
       "APP2075     209412.11\n",
       "Name: unit_price, Length: 5936, dtype: float64"
      ]
     },
     "execution_count": 722,
     "metadata": {},
     "output_type": "execute_result"
    }
   ],
   "source": [
    "orderlines_ql.groupby(\"sku\")[\"unit_price\"].sum().sort_values()"
   ]
  },
  {
   "cell_type": "code",
   "execution_count": 723,
   "id": "12cfb82e",
   "metadata": {},
   "outputs": [
    {
     "data": {
      "text/html": [
       "<div>\n",
       "<style scoped>\n",
       "    .dataframe tbody tr th:only-of-type {\n",
       "        vertical-align: middle;\n",
       "    }\n",
       "\n",
       "    .dataframe tbody tr th {\n",
       "        vertical-align: top;\n",
       "    }\n",
       "\n",
       "    .dataframe thead th {\n",
       "        text-align: right;\n",
       "    }\n",
       "</style>\n",
       "<table border=\"1\" class=\"dataframe\">\n",
       "  <thead>\n",
       "    <tr style=\"text-align: right;\">\n",
       "      <th></th>\n",
       "      <th>sku</th>\n",
       "      <th>name</th>\n",
       "      <th>desc</th>\n",
       "      <th>price</th>\n",
       "      <th>in_stock</th>\n",
       "      <th>type</th>\n",
       "      <th>unit_price</th>\n",
       "      <th>category</th>\n",
       "    </tr>\n",
       "  </thead>\n",
       "  <tbody>\n",
       "    <tr>\n",
       "      <th>4263</th>\n",
       "      <td>PAC2136</td>\n",
       "      <td>Apple iMac 27 \"Core i5 Retina 5K 34GHz | 16GB ...</td>\n",
       "      <td>IMac desktop computer 27 inch 5K Retina 16GB (...</td>\n",
       "      <td>2339.00</td>\n",
       "      <td>1</td>\n",
       "      <td>5,74E+15</td>\n",
       "      <td>2156.59</td>\n",
       "      <td>PCs</td>\n",
       "    </tr>\n",
       "    <tr>\n",
       "      <th>4324</th>\n",
       "      <td>APP2074</td>\n",
       "      <td>Apple MacBook Pro 15 \"Core i7 Touch Bar 28GHz ...</td>\n",
       "      <td>New MacBook Pro 15-inch Touch Bar to 28GHz Cor...</td>\n",
       "      <td>2805.59</td>\n",
       "      <td>1</td>\n",
       "      <td>1,02E+12</td>\n",
       "      <td>2799.00</td>\n",
       "      <td>PCs</td>\n",
       "    </tr>\n",
       "    <tr>\n",
       "      <th>4334</th>\n",
       "      <td>APP2075</td>\n",
       "      <td>Apple MacBook Pro 15 \"Core i7 Touch Bar 29Ghz ...</td>\n",
       "      <td>New MacBook Pro 15-inch Core i7 Touch Bar 29Gh...</td>\n",
       "      <td>3305.59</td>\n",
       "      <td>0</td>\n",
       "      <td>1,02E+12</td>\n",
       "      <td>3299.00</td>\n",
       "      <td>PCs</td>\n",
       "    </tr>\n",
       "    <tr>\n",
       "      <th>4908</th>\n",
       "      <td>APP2489</td>\n",
       "      <td>Apple iPhone 64GB Space Gray X</td>\n",
       "      <td>New Free iPhone 64GB X</td>\n",
       "      <td>1159.00</td>\n",
       "      <td>1</td>\n",
       "      <td>113271716</td>\n",
       "      <td>1159.00</td>\n",
       "      <td>Smartphones</td>\n",
       "    </tr>\n",
       "    <tr>\n",
       "      <th>4911</th>\n",
       "      <td>APP2490</td>\n",
       "      <td>Apple iPhone 64GB X Silver</td>\n",
       "      <td>New Apple iPhone 64GB Free Silver X</td>\n",
       "      <td>1159.00</td>\n",
       "      <td>1</td>\n",
       "      <td>113271716</td>\n",
       "      <td>1159.00</td>\n",
       "      <td>Smartphones</td>\n",
       "    </tr>\n",
       "  </tbody>\n",
       "</table>\n",
       "</div>"
      ],
      "text/plain": [
       "          sku                                               name  \\\n",
       "4263  PAC2136  Apple iMac 27 \"Core i5 Retina 5K 34GHz | 16GB ...   \n",
       "4324  APP2074  Apple MacBook Pro 15 \"Core i7 Touch Bar 28GHz ...   \n",
       "4334  APP2075  Apple MacBook Pro 15 \"Core i7 Touch Bar 29Ghz ...   \n",
       "4908  APP2489                     Apple iPhone 64GB Space Gray X   \n",
       "4911  APP2490                         Apple iPhone 64GB X Silver   \n",
       "\n",
       "                                                   desc   price  in_stock  \\\n",
       "4263  IMac desktop computer 27 inch 5K Retina 16GB (... 2339.00         1   \n",
       "4324  New MacBook Pro 15-inch Touch Bar to 28GHz Cor... 2805.59         1   \n",
       "4334  New MacBook Pro 15-inch Core i7 Touch Bar 29Gh... 3305.59         0   \n",
       "4908                             New Free iPhone 64GB X 1159.00         1   \n",
       "4911                New Apple iPhone 64GB Free Silver X 1159.00         1   \n",
       "\n",
       "           type  unit_price     category  \n",
       "4263   5,74E+15     2156.59          PCs  \n",
       "4324   1,02E+12     2799.00          PCs  \n",
       "4334   1,02E+12     3299.00          PCs  \n",
       "4908  113271716     1159.00  Smartphones  \n",
       "4911  113271716     1159.00  Smartphones  "
      ]
     },
     "execution_count": 723,
     "metadata": {},
     "output_type": "execute_result"
    }
   ],
   "source": [
    "products_ql.loc[products_ql[\"sku\"].isin((\"APP2075\", \"APP2074\", \"APP2490\", \"APP2489\", \"PAC2136\"))]"
   ]
  },
  {
   "cell_type": "markdown",
   "id": "98693f0a",
   "metadata": {},
   "source": [
    "6."
   ]
  },
  {
   "cell_type": "code",
   "execution_count": 724,
   "id": "d9cf4f3b",
   "metadata": {},
   "outputs": [],
   "source": [
    "# When products are discounted around the holidays, then there is a clear alignment with profit\n",
    "# in months absent of special celebrations, one can observe a dip in the revenue generated"
   ]
  },
  {
   "cell_type": "markdown",
   "id": "184e0519",
   "metadata": {},
   "source": [
    "# Answer more Questions"
   ]
  },
  {
   "cell_type": "code",
   "execution_count": 725,
   "id": "9aef0d12",
   "metadata": {},
   "outputs": [],
   "source": [
    "real_discount = orderlines_ql.loc[orderlines_ql[\"discount\"] != 0, [\"date\", \"discount\"]]"
   ]
  },
  {
   "cell_type": "code",
   "execution_count": 726,
   "id": "09d5a5e0",
   "metadata": {},
   "outputs": [
    {
     "data": {
      "text/html": [
       "<div>\n",
       "<style scoped>\n",
       "    .dataframe tbody tr th:only-of-type {\n",
       "        vertical-align: middle;\n",
       "    }\n",
       "\n",
       "    .dataframe tbody tr th {\n",
       "        vertical-align: top;\n",
       "    }\n",
       "\n",
       "    .dataframe thead th {\n",
       "        text-align: right;\n",
       "    }\n",
       "</style>\n",
       "<table border=\"1\" class=\"dataframe\">\n",
       "  <thead>\n",
       "    <tr style=\"text-align: right;\">\n",
       "      <th></th>\n",
       "      <th>date</th>\n",
       "      <th>discount</th>\n",
       "    </tr>\n",
       "  </thead>\n",
       "  <tbody>\n",
       "  </tbody>\n",
       "</table>\n",
       "</div>"
      ],
      "text/plain": [
       "Empty DataFrame\n",
       "Columns: [date, discount]\n",
       "Index: []"
      ]
     },
     "execution_count": 726,
     "metadata": {},
     "output_type": "execute_result"
    }
   ],
   "source": [
    "real_discount.loc[real_discount[\"discount\"] == 0.00]"
   ]
  },
  {
   "cell_type": "markdown",
   "id": "fb51671c",
   "metadata": {},
   "source": [
    "How many discounts have there been in which month"
   ]
  },
  {
   "cell_type": "code",
   "execution_count": 727,
   "id": "6aad7d52",
   "metadata": {},
   "outputs": [
    {
     "data": {
      "text/plain": [
       "date  date     \n",
       "2017  April        1989\n",
       "      August       2881\n",
       "      December     6533\n",
       "      February     2759\n",
       "      January      6340\n",
       "      July         4359\n",
       "      June         1900\n",
       "      March         253\n",
       "      May          2272\n",
       "      November     9513\n",
       "      October      3853\n",
       "      September    2706\n",
       "2018  February     3939\n",
       "      January      6440\n",
       "      March        1703\n",
       "Name: discount, dtype: int64"
      ]
     },
     "execution_count": 727,
     "metadata": {},
     "output_type": "execute_result"
    }
   ],
   "source": [
    "real_discount.groupby([real_discount[\"date\"].dt.year, real_discount[\"date\"].dt.month_name()])[\"discount\"].count()"
   ]
  },
  {
   "cell_type": "markdown",
   "id": "3c2835ad",
   "metadata": {},
   "source": [
    "All categorys in count"
   ]
  },
  {
   "cell_type": "code",
   "execution_count": 728,
   "id": "0571b915",
   "metadata": {},
   "outputs": [
    {
     "data": {
      "text/html": [
       "<div>\n",
       "<style scoped>\n",
       "    .dataframe tbody tr th:only-of-type {\n",
       "        vertical-align: middle;\n",
       "    }\n",
       "\n",
       "    .dataframe tbody tr th {\n",
       "        vertical-align: top;\n",
       "    }\n",
       "\n",
       "    .dataframe thead th {\n",
       "        text-align: right;\n",
       "    }\n",
       "</style>\n",
       "<table border=\"1\" class=\"dataframe\">\n",
       "  <thead>\n",
       "    <tr style=\"text-align: right;\">\n",
       "      <th></th>\n",
       "      <th>sku</th>\n",
       "    </tr>\n",
       "    <tr>\n",
       "      <th>category</th>\n",
       "      <th></th>\n",
       "    </tr>\n",
       "  </thead>\n",
       "  <tbody>\n",
       "    <tr>\n",
       "      <th>Adapter</th>\n",
       "      <td>249</td>\n",
       "    </tr>\n",
       "    <tr>\n",
       "      <th>AppleCare</th>\n",
       "      <td>9</td>\n",
       "    </tr>\n",
       "    <tr>\n",
       "      <th>Battery</th>\n",
       "      <td>109</td>\n",
       "    </tr>\n",
       "    <tr>\n",
       "      <th>Charger</th>\n",
       "      <td>62</td>\n",
       "    </tr>\n",
       "    <tr>\n",
       "      <th>Connectors</th>\n",
       "      <td>261</td>\n",
       "    </tr>\n",
       "    <tr>\n",
       "      <th>I/O Device</th>\n",
       "      <td>637</td>\n",
       "    </tr>\n",
       "    <tr>\n",
       "      <th>License</th>\n",
       "      <td>5</td>\n",
       "    </tr>\n",
       "    <tr>\n",
       "      <th>Media Players</th>\n",
       "      <td>40</td>\n",
       "    </tr>\n",
       "    <tr>\n",
       "      <th>Networking</th>\n",
       "      <td>180</td>\n",
       "    </tr>\n",
       "    <tr>\n",
       "      <th>Others</th>\n",
       "      <td>547</td>\n",
       "    </tr>\n",
       "    <tr>\n",
       "      <th>PCs</th>\n",
       "      <td>567</td>\n",
       "    </tr>\n",
       "    <tr>\n",
       "      <th>Protective Cover</th>\n",
       "      <td>1418</td>\n",
       "    </tr>\n",
       "    <tr>\n",
       "      <th>Repair Kit</th>\n",
       "      <td>54</td>\n",
       "    </tr>\n",
       "    <tr>\n",
       "      <th>Service</th>\n",
       "      <td>12</td>\n",
       "    </tr>\n",
       "    <tr>\n",
       "      <th>Smartphones</th>\n",
       "      <td>173</td>\n",
       "    </tr>\n",
       "    <tr>\n",
       "      <th>Smartwatches</th>\n",
       "      <td>11</td>\n",
       "    </tr>\n",
       "    <tr>\n",
       "      <th>Storage</th>\n",
       "      <td>1314</td>\n",
       "    </tr>\n",
       "    <tr>\n",
       "      <th>Straps</th>\n",
       "      <td>58</td>\n",
       "    </tr>\n",
       "    <tr>\n",
       "      <th>Support</th>\n",
       "      <td>106</td>\n",
       "    </tr>\n",
       "    <tr>\n",
       "      <th>Tablets</th>\n",
       "      <td>124</td>\n",
       "    </tr>\n",
       "  </tbody>\n",
       "</table>\n",
       "</div>"
      ],
      "text/plain": [
       "                   sku\n",
       "category              \n",
       "Adapter            249\n",
       "AppleCare            9\n",
       "Battery            109\n",
       "Charger             62\n",
       "Connectors         261\n",
       "I/O Device         637\n",
       "License              5\n",
       "Media Players       40\n",
       "Networking         180\n",
       "Others             547\n",
       "PCs                567\n",
       "Protective Cover  1418\n",
       "Repair Kit          54\n",
       "Service             12\n",
       "Smartphones        173\n",
       "Smartwatches        11\n",
       "Storage           1314\n",
       "Straps              58\n",
       "Support            106\n",
       "Tablets            124"
      ]
     },
     "execution_count": 728,
     "metadata": {},
     "output_type": "execute_result"
    }
   ],
   "source": [
    "products_ql.groupby(\"category\")[[\"sku\"]].count()"
   ]
  },
  {
   "cell_type": "markdown",
   "id": "fda2a3a4",
   "metadata": {},
   "source": [
    "What is the percentage of revnue that came from discounted products?"
   ]
  },
  {
   "cell_type": "code",
   "execution_count": 729,
   "id": "e48ffc0c",
   "metadata": {},
   "outputs": [
    {
     "data": {
      "text/html": [
       "<div>\n",
       "<style scoped>\n",
       "    .dataframe tbody tr th:only-of-type {\n",
       "        vertical-align: middle;\n",
       "    }\n",
       "\n",
       "    .dataframe tbody tr th {\n",
       "        vertical-align: top;\n",
       "    }\n",
       "\n",
       "    .dataframe thead th {\n",
       "        text-align: right;\n",
       "    }\n",
       "</style>\n",
       "<table border=\"1\" class=\"dataframe\">\n",
       "  <thead>\n",
       "    <tr style=\"text-align: right;\">\n",
       "      <th></th>\n",
       "      <th>order_id</th>\n",
       "      <th>created_date</th>\n",
       "      <th>total_paid</th>\n",
       "      <th>state</th>\n",
       "      <th>unit_price_total</th>\n",
       "      <th>difference</th>\n",
       "    </tr>\n",
       "  </thead>\n",
       "  <tbody>\n",
       "    <tr>\n",
       "      <th>0</th>\n",
       "      <td>241423</td>\n",
       "      <td>2017-11-06 13:10:02</td>\n",
       "      <td>136.15</td>\n",
       "      <td>Completed</td>\n",
       "      <td>129.16</td>\n",
       "      <td>6.99</td>\n",
       "    </tr>\n",
       "    <tr>\n",
       "      <th>1</th>\n",
       "      <td>242832</td>\n",
       "      <td>2017-12-31 17:40:03</td>\n",
       "      <td>15.76</td>\n",
       "      <td>Completed</td>\n",
       "      <td>10.77</td>\n",
       "      <td>4.99</td>\n",
       "    </tr>\n",
       "    <tr>\n",
       "      <th>2</th>\n",
       "      <td>243330</td>\n",
       "      <td>2017-02-16 10:59:38</td>\n",
       "      <td>84.98</td>\n",
       "      <td>Completed</td>\n",
       "      <td>77.99</td>\n",
       "      <td>6.99</td>\n",
       "    </tr>\n",
       "    <tr>\n",
       "      <th>3</th>\n",
       "      <td>245275</td>\n",
       "      <td>2017-06-28 11:35:37</td>\n",
       "      <td>149.00</td>\n",
       "      <td>Completed</td>\n",
       "      <td>149.00</td>\n",
       "      <td>0.00</td>\n",
       "    </tr>\n",
       "    <tr>\n",
       "      <th>4</th>\n",
       "      <td>245595</td>\n",
       "      <td>2017-01-21 12:52:47</td>\n",
       "      <td>112.97</td>\n",
       "      <td>Completed</td>\n",
       "      <td>105.98</td>\n",
       "      <td>6.99</td>\n",
       "    </tr>\n",
       "    <tr>\n",
       "      <th>...</th>\n",
       "      <td>...</td>\n",
       "      <td>...</td>\n",
       "      <td>...</td>\n",
       "      <td>...</td>\n",
       "      <td>...</td>\n",
       "      <td>...</td>\n",
       "    </tr>\n",
       "    <tr>\n",
       "      <th>45445</th>\n",
       "      <td>527042</td>\n",
       "      <td>2018-03-14 11:47:50</td>\n",
       "      <td>18.98</td>\n",
       "      <td>Completed</td>\n",
       "      <td>13.99</td>\n",
       "      <td>4.99</td>\n",
       "    </tr>\n",
       "    <tr>\n",
       "      <th>45446</th>\n",
       "      <td>527070</td>\n",
       "      <td>2018-03-14 11:50:48</td>\n",
       "      <td>24.97</td>\n",
       "      <td>Completed</td>\n",
       "      <td>19.98</td>\n",
       "      <td>4.99</td>\n",
       "    </tr>\n",
       "    <tr>\n",
       "      <th>45447</th>\n",
       "      <td>527074</td>\n",
       "      <td>2018-03-14 11:51:42</td>\n",
       "      <td>24.97</td>\n",
       "      <td>Completed</td>\n",
       "      <td>19.98</td>\n",
       "      <td>4.99</td>\n",
       "    </tr>\n",
       "    <tr>\n",
       "      <th>45448</th>\n",
       "      <td>527096</td>\n",
       "      <td>2018-03-14 11:58:40</td>\n",
       "      <td>34.96</td>\n",
       "      <td>Completed</td>\n",
       "      <td>29.97</td>\n",
       "      <td>4.99</td>\n",
       "    </tr>\n",
       "    <tr>\n",
       "      <th>45449</th>\n",
       "      <td>527112</td>\n",
       "      <td>2018-03-14 12:03:52</td>\n",
       "      <td>14.98</td>\n",
       "      <td>Completed</td>\n",
       "      <td>9.99</td>\n",
       "      <td>4.99</td>\n",
       "    </tr>\n",
       "  </tbody>\n",
       "</table>\n",
       "<p>45450 rows × 6 columns</p>\n",
       "</div>"
      ],
      "text/plain": [
       "       order_id        created_date  total_paid      state  unit_price_total  \\\n",
       "0        241423 2017-11-06 13:10:02      136.15  Completed            129.16   \n",
       "1        242832 2017-12-31 17:40:03       15.76  Completed             10.77   \n",
       "2        243330 2017-02-16 10:59:38       84.98  Completed             77.99   \n",
       "3        245275 2017-06-28 11:35:37      149.00  Completed            149.00   \n",
       "4        245595 2017-01-21 12:52:47      112.97  Completed            105.98   \n",
       "...         ...                 ...         ...        ...               ...   \n",
       "45445    527042 2018-03-14 11:47:50       18.98  Completed             13.99   \n",
       "45446    527070 2018-03-14 11:50:48       24.97  Completed             19.98   \n",
       "45447    527074 2018-03-14 11:51:42       24.97  Completed             19.98   \n",
       "45448    527096 2018-03-14 11:58:40       34.96  Completed             29.97   \n",
       "45449    527112 2018-03-14 12:03:52       14.98  Completed              9.99   \n",
       "\n",
       "       difference  \n",
       "0            6.99  \n",
       "1            4.99  \n",
       "2            6.99  \n",
       "3            0.00  \n",
       "4            6.99  \n",
       "...           ...  \n",
       "45445        4.99  \n",
       "45446        4.99  \n",
       "45447        4.99  \n",
       "45448        4.99  \n",
       "45449        4.99  \n",
       "\n",
       "[45450 rows x 6 columns]"
      ]
     },
     "execution_count": 729,
     "metadata": {},
     "output_type": "execute_result"
    }
   ],
   "source": [
    "order_ql"
   ]
  },
  {
   "cell_type": "markdown",
   "id": "2903522b",
   "metadata": {},
   "source": [
    "Which category of products gives the highest revenue? What percentage of them is discounted?"
   ]
  },
  {
   "cell_type": "code",
   "execution_count": 730,
   "id": "bb9f7417",
   "metadata": {},
   "outputs": [],
   "source": [
    "# Most sold products in Storage"
   ]
  },
  {
   "cell_type": "markdown",
   "id": "be6176b5",
   "metadata": {},
   "source": [
    "What is the averge percent of discount? Per month?"
   ]
  },
  {
   "cell_type": "code",
   "execution_count": 731,
   "id": "1b04f5d2",
   "metadata": {},
   "outputs": [
    {
     "data": {
      "text/html": [
       "<div>\n",
       "<style scoped>\n",
       "    .dataframe tbody tr th:only-of-type {\n",
       "        vertical-align: middle;\n",
       "    }\n",
       "\n",
       "    .dataframe tbody tr th {\n",
       "        vertical-align: top;\n",
       "    }\n",
       "\n",
       "    .dataframe thead th {\n",
       "        text-align: right;\n",
       "    }\n",
       "</style>\n",
       "<table border=\"1\" class=\"dataframe\">\n",
       "  <thead>\n",
       "    <tr style=\"text-align: right;\">\n",
       "      <th></th>\n",
       "      <th>unit_price_total</th>\n",
       "      <th>discount</th>\n",
       "    </tr>\n",
       "  </thead>\n",
       "  <tbody>\n",
       "    <tr>\n",
       "      <th>5</th>\n",
       "      <td>142.49</td>\n",
       "      <td>157.50</td>\n",
       "    </tr>\n",
       "    <tr>\n",
       "      <th>12</th>\n",
       "      <td>142.49</td>\n",
       "      <td>157.50</td>\n",
       "    </tr>\n",
       "    <tr>\n",
       "      <th>62</th>\n",
       "      <td>18.99</td>\n",
       "      <td>71.00</td>\n",
       "    </tr>\n",
       "    <tr>\n",
       "      <th>64</th>\n",
       "      <td>18.99</td>\n",
       "      <td>71.00</td>\n",
       "    </tr>\n",
       "    <tr>\n",
       "      <th>84</th>\n",
       "      <td>65.55</td>\n",
       "      <td>94.35</td>\n",
       "    </tr>\n",
       "    <tr>\n",
       "      <th>...</th>\n",
       "      <td>...</td>\n",
       "      <td>...</td>\n",
       "    </tr>\n",
       "    <tr>\n",
       "      <th>60246</th>\n",
       "      <td>13.99</td>\n",
       "      <td>21.01</td>\n",
       "    </tr>\n",
       "    <tr>\n",
       "      <th>60248</th>\n",
       "      <td>13.99</td>\n",
       "      <td>21.01</td>\n",
       "    </tr>\n",
       "    <tr>\n",
       "      <th>60249</th>\n",
       "      <td>13.99</td>\n",
       "      <td>21.01</td>\n",
       "    </tr>\n",
       "    <tr>\n",
       "      <th>60250</th>\n",
       "      <td>9.99</td>\n",
       "      <td>15.01</td>\n",
       "    </tr>\n",
       "    <tr>\n",
       "      <th>60254</th>\n",
       "      <td>9.99</td>\n",
       "      <td>15.01</td>\n",
       "    </tr>\n",
       "  </tbody>\n",
       "</table>\n",
       "<p>5055 rows × 2 columns</p>\n",
       "</div>"
      ],
      "text/plain": [
       "       unit_price_total  discount\n",
       "5                142.49    157.50\n",
       "12               142.49    157.50\n",
       "62                18.99     71.00\n",
       "64                18.99     71.00\n",
       "84                65.55     94.35\n",
       "...                 ...       ...\n",
       "60246             13.99     21.01\n",
       "60248             13.99     21.01\n",
       "60249             13.99     21.01\n",
       "60250              9.99     15.01\n",
       "60254              9.99     15.01\n",
       "\n",
       "[5055 rows x 2 columns]"
      ]
     },
     "execution_count": 731,
     "metadata": {},
     "output_type": "execute_result"
    }
   ],
   "source": [
    "orderlines_ql.loc[orderlines_ql[\"unit_price_total\"] < orderlines_ql[\"discount\"], [\"unit_price_total\", \"discount\"]]"
   ]
  },
  {
   "cell_type": "code",
   "execution_count": 732,
   "id": "b7c296d6",
   "metadata": {},
   "outputs": [],
   "source": [
    "orderlines_ql[\"Dis_Percentage\"] = orderlines_ql[\"discount\"]/orderlines_ql[\"price\"]"
   ]
  },
  {
   "cell_type": "code",
   "execution_count": 733,
   "id": "aedcbe36",
   "metadata": {},
   "outputs": [
    {
     "data": {
      "text/plain": [
       "np.float64(0.20825016864951967)"
      ]
     },
     "execution_count": 733,
     "metadata": {},
     "output_type": "execute_result"
    }
   ],
   "source": [
    "# The Discounts on average are very high\n",
    "orderlines_ql[\"Dis_Percentage\"].mean()"
   ]
  },
  {
   "cell_type": "code",
   "execution_count": 734,
   "id": "abc8655c",
   "metadata": {},
   "outputs": [
    {
     "data": {
      "text/plain": [
       "product_quantity                                                16952\n",
       "category            StorageStorageStorageStorageStorageStorageStor...\n",
       "unit_price_total                                           3007699.58\n",
       "dtype: object"
      ]
     },
     "execution_count": 734,
     "metadata": {},
     "output_type": "execute_result"
    }
   ],
   "source": [
    "orderlines_ql.loc[(orderlines_ql[\"product_quantity\"] <= 5) & (orderlines_ql[\"category\"] == \"Storage\"), [\"product_quantity\", \"category\", \"unit_price_total\"]].sum()"
   ]
  },
  {
   "cell_type": "code",
   "execution_count": 735,
   "id": "05b567ec",
   "metadata": {},
   "outputs": [
    {
     "data": {
      "text/html": [
       "<div>\n",
       "<style scoped>\n",
       "    .dataframe tbody tr th:only-of-type {\n",
       "        vertical-align: middle;\n",
       "    }\n",
       "\n",
       "    .dataframe tbody tr th {\n",
       "        vertical-align: top;\n",
       "    }\n",
       "\n",
       "    .dataframe thead th {\n",
       "        text-align: right;\n",
       "    }\n",
       "</style>\n",
       "<table border=\"1\" class=\"dataframe\">\n",
       "  <thead>\n",
       "    <tr style=\"text-align: right;\">\n",
       "      <th></th>\n",
       "      <th>product_quantity</th>\n",
       "      <th>category</th>\n",
       "      <th>unit_price_total</th>\n",
       "    </tr>\n",
       "  </thead>\n",
       "  <tbody>\n",
       "    <tr>\n",
       "      <th>285</th>\n",
       "      <td>35</td>\n",
       "      <td>Protective Cover</td>\n",
       "      <td>1049.65</td>\n",
       "    </tr>\n",
       "    <tr>\n",
       "      <th>289</th>\n",
       "      <td>6</td>\n",
       "      <td>Others</td>\n",
       "      <td>359.94</td>\n",
       "    </tr>\n",
       "    <tr>\n",
       "      <th>955</th>\n",
       "      <td>8</td>\n",
       "      <td>Others</td>\n",
       "      <td>143.92</td>\n",
       "    </tr>\n",
       "    <tr>\n",
       "      <th>1800</th>\n",
       "      <td>32</td>\n",
       "      <td>I/O Device</td>\n",
       "      <td>959.68</td>\n",
       "    </tr>\n",
       "    <tr>\n",
       "      <th>2098</th>\n",
       "      <td>10</td>\n",
       "      <td>Storage</td>\n",
       "      <td>59.90</td>\n",
       "    </tr>\n",
       "    <tr>\n",
       "      <th>...</th>\n",
       "      <td>...</td>\n",
       "      <td>...</td>\n",
       "      <td>...</td>\n",
       "    </tr>\n",
       "    <tr>\n",
       "      <th>57427</th>\n",
       "      <td>7</td>\n",
       "      <td>Adapter</td>\n",
       "      <td>524.93</td>\n",
       "    </tr>\n",
       "    <tr>\n",
       "      <th>57674</th>\n",
       "      <td>7</td>\n",
       "      <td>Others</td>\n",
       "      <td>349.93</td>\n",
       "    </tr>\n",
       "    <tr>\n",
       "      <th>59233</th>\n",
       "      <td>6</td>\n",
       "      <td>I/O Device</td>\n",
       "      <td>1703.94</td>\n",
       "    </tr>\n",
       "    <tr>\n",
       "      <th>59349</th>\n",
       "      <td>9</td>\n",
       "      <td>I/O Device</td>\n",
       "      <td>161.91</td>\n",
       "    </tr>\n",
       "    <tr>\n",
       "      <th>59371</th>\n",
       "      <td>6</td>\n",
       "      <td>Connectors</td>\n",
       "      <td>419.94</td>\n",
       "    </tr>\n",
       "  </tbody>\n",
       "</table>\n",
       "<p>158 rows × 3 columns</p>\n",
       "</div>"
      ],
      "text/plain": [
       "       product_quantity          category  unit_price_total\n",
       "285                  35  Protective Cover           1049.65\n",
       "289                   6            Others            359.94\n",
       "955                   8            Others            143.92\n",
       "1800                 32        I/O Device            959.68\n",
       "2098                 10           Storage             59.90\n",
       "...                 ...               ...               ...\n",
       "57427                 7           Adapter            524.93\n",
       "57674                 7            Others            349.93\n",
       "59233                 6        I/O Device           1703.94\n",
       "59349                 9        I/O Device            161.91\n",
       "59371                 6        Connectors            419.94\n",
       "\n",
       "[158 rows x 3 columns]"
      ]
     },
     "execution_count": 735,
     "metadata": {},
     "output_type": "execute_result"
    }
   ],
   "source": [
    "orderlines_ql.loc[(orderlines_ql[\"product_quantity\"] > 5), [\"product_quantity\", \"category\", \"unit_price_total\"]]"
   ]
  },
  {
   "cell_type": "markdown",
   "id": "eba5df86",
   "metadata": {},
   "source": [
    "What would be a moderate discount percentage that seems decent?"
   ]
  },
  {
   "cell_type": "code",
   "execution_count": 736,
   "id": "8ba44adb",
   "metadata": {},
   "outputs": [
    {
     "data": {
      "text/plain": [
       "category\n",
       "Adapter            0.22\n",
       "AppleCare          0.21\n",
       "Battery            0.23\n",
       "Charger            0.27\n",
       "Connectors         0.29\n",
       "I/O Device         0.22\n",
       "License            0.06\n",
       "Media Players      0.10\n",
       "Networking         0.16\n",
       "Others             0.20\n",
       "PCs                0.11\n",
       "Protective Cover   0.30\n",
       "Repair Kit         0.28\n",
       "Service            0.69\n",
       "Smartphones        0.07\n",
       "Smartwatches       0.24\n",
       "Storage            0.17\n",
       "Straps             0.25\n",
       "Support            0.21\n",
       "Tablets            0.07\n",
       "Name: Dis_Percentage, dtype: float64"
      ]
     },
     "execution_count": 736,
     "metadata": {},
     "output_type": "execute_result"
    }
   ],
   "source": [
    "orderlines_ql.groupby(\"category\")[\"Dis_Percentage\"].mean()"
   ]
  },
  {
   "cell_type": "markdown",
   "id": "640c532e",
   "metadata": {},
   "source": [
    "# Answer in Plots"
   ]
  },
  {
   "cell_type": "code",
   "execution_count": 737,
   "id": "299caa21",
   "metadata": {},
   "outputs": [],
   "source": [
    "order_ql[\"year\"] = order_ql[\"created_date\"].dt.year\n",
    "order_ql[\"month_name\"] = order_ql[\"created_date\"].dt.month_name()\n",
    "order_ql[\"month\"] = order_ql[\"created_date\"].dt.month"
   ]
  },
  {
   "cell_type": "code",
   "execution_count": 738,
   "id": "d612f4ea",
   "metadata": {},
   "outputs": [],
   "source": [
    "orderlines_ql[\"year\"] = orderlines_ql[\"date\"].dt.year\n",
    "orderlines_ql[\"month\"] = orderlines_ql[\"date\"].dt.month"
   ]
  },
  {
   "cell_type": "code",
   "execution_count": 739,
   "id": "89930538",
   "metadata": {},
   "outputs": [
    {
     "data": {
      "text/html": [
       "<div>\n",
       "<style scoped>\n",
       "    .dataframe tbody tr th:only-of-type {\n",
       "        vertical-align: middle;\n",
       "    }\n",
       "\n",
       "    .dataframe tbody tr th {\n",
       "        vertical-align: top;\n",
       "    }\n",
       "\n",
       "    .dataframe thead th {\n",
       "        text-align: right;\n",
       "    }\n",
       "</style>\n",
       "<table border=\"1\" class=\"dataframe\">\n",
       "  <thead>\n",
       "    <tr style=\"text-align: right;\">\n",
       "      <th></th>\n",
       "      <th></th>\n",
       "      <th></th>\n",
       "      <th>category</th>\n",
       "    </tr>\n",
       "    <tr>\n",
       "      <th>year</th>\n",
       "      <th>month</th>\n",
       "      <th>category</th>\n",
       "      <th></th>\n",
       "    </tr>\n",
       "  </thead>\n",
       "  <tbody>\n",
       "    <tr>\n",
       "      <th rowspan=\"4\" valign=\"top\">2017</th>\n",
       "      <th>11</th>\n",
       "      <th>Storage</th>\n",
       "      <td>2162</td>\n",
       "    </tr>\n",
       "    <tr>\n",
       "      <th>1</th>\n",
       "      <th>Storage</th>\n",
       "      <td>1816</td>\n",
       "    </tr>\n",
       "    <tr>\n",
       "      <th rowspan=\"2\" valign=\"top\">11</th>\n",
       "      <th>I/O Device</th>\n",
       "      <td>1699</td>\n",
       "    </tr>\n",
       "    <tr>\n",
       "      <th>Protective Cover</th>\n",
       "      <td>1415</td>\n",
       "    </tr>\n",
       "    <tr>\n",
       "      <th rowspan=\"2\" valign=\"top\">2018</th>\n",
       "      <th rowspan=\"2\" valign=\"top\">1</th>\n",
       "      <th>Storage</th>\n",
       "      <td>1345</td>\n",
       "    </tr>\n",
       "    <tr>\n",
       "      <th>Protective Cover</th>\n",
       "      <td>1289</td>\n",
       "    </tr>\n",
       "    <tr>\n",
       "      <th rowspan=\"6\" valign=\"top\">2017</th>\n",
       "      <th rowspan=\"3\" valign=\"top\">12</th>\n",
       "      <th>I/O Device</th>\n",
       "      <td>1253</td>\n",
       "    </tr>\n",
       "    <tr>\n",
       "      <th>Storage</th>\n",
       "      <td>1244</td>\n",
       "    </tr>\n",
       "    <tr>\n",
       "      <th>Protective Cover</th>\n",
       "      <td>1213</td>\n",
       "    </tr>\n",
       "    <tr>\n",
       "      <th>7</th>\n",
       "      <th>Storage</th>\n",
       "      <td>1080</td>\n",
       "    </tr>\n",
       "    <tr>\n",
       "      <th>10</th>\n",
       "      <th>Storage</th>\n",
       "      <td>1023</td>\n",
       "    </tr>\n",
       "    <tr>\n",
       "      <th>1</th>\n",
       "      <th>Protective Cover</th>\n",
       "      <td>988</td>\n",
       "    </tr>\n",
       "    <tr>\n",
       "      <th>2018</th>\n",
       "      <th>2</th>\n",
       "      <th>Storage</th>\n",
       "      <td>964</td>\n",
       "    </tr>\n",
       "    <tr>\n",
       "      <th>2017</th>\n",
       "      <th>2</th>\n",
       "      <th>Storage</th>\n",
       "      <td>962</td>\n",
       "    </tr>\n",
       "    <tr>\n",
       "      <th>2018</th>\n",
       "      <th>1</th>\n",
       "      <th>I/O Device</th>\n",
       "      <td>922</td>\n",
       "    </tr>\n",
       "    <tr>\n",
       "      <th rowspan=\"4\" valign=\"top\">2017</th>\n",
       "      <th>11</th>\n",
       "      <th>Others</th>\n",
       "      <td>842</td>\n",
       "    </tr>\n",
       "    <tr>\n",
       "      <th>12</th>\n",
       "      <th>Others</th>\n",
       "      <td>840</td>\n",
       "    </tr>\n",
       "    <tr>\n",
       "      <th>1</th>\n",
       "      <th>I/O Device</th>\n",
       "      <td>833</td>\n",
       "    </tr>\n",
       "    <tr>\n",
       "      <th>8</th>\n",
       "      <th>Storage</th>\n",
       "      <td>799</td>\n",
       "    </tr>\n",
       "    <tr>\n",
       "      <th>2018</th>\n",
       "      <th>1</th>\n",
       "      <th>Others</th>\n",
       "      <td>797</td>\n",
       "    </tr>\n",
       "  </tbody>\n",
       "</table>\n",
       "</div>"
      ],
      "text/plain": [
       "                             category\n",
       "year month category                  \n",
       "2017 11    Storage               2162\n",
       "     1     Storage               1816\n",
       "     11    I/O Device            1699\n",
       "           Protective Cover      1415\n",
       "2018 1     Storage               1345\n",
       "           Protective Cover      1289\n",
       "2017 12    I/O Device            1253\n",
       "           Storage               1244\n",
       "           Protective Cover      1213\n",
       "     7     Storage               1080\n",
       "     10    Storage               1023\n",
       "     1     Protective Cover       988\n",
       "2018 2     Storage                964\n",
       "2017 2     Storage                962\n",
       "2018 1     I/O Device             922\n",
       "2017 11    Others                 842\n",
       "     12    Others                 840\n",
       "     1     I/O Device             833\n",
       "     8     Storage                799\n",
       "2018 1     Others                 797"
      ]
     },
     "execution_count": 739,
     "metadata": {},
     "output_type": "execute_result"
    }
   ],
   "source": [
    "orderlines_ql.groupby([\"year\", \"month\", \"category\" ])[[\"category\"]].count().nlargest(20,\"category\")"
   ]
  },
  {
   "cell_type": "code",
   "execution_count": 740,
   "id": "c9efad5c",
   "metadata": {},
   "outputs": [
    {
     "data": {
      "text/html": [
       "<div>\n",
       "<style scoped>\n",
       "    .dataframe tbody tr th:only-of-type {\n",
       "        vertical-align: middle;\n",
       "    }\n",
       "\n",
       "    .dataframe tbody tr th {\n",
       "        vertical-align: top;\n",
       "    }\n",
       "\n",
       "    .dataframe thead th {\n",
       "        text-align: right;\n",
       "    }\n",
       "</style>\n",
       "<table border=\"1\" class=\"dataframe\">\n",
       "  <thead>\n",
       "    <tr style=\"text-align: right;\">\n",
       "      <th></th>\n",
       "      <th>sku</th>\n",
       "      <th>name</th>\n",
       "      <th>desc</th>\n",
       "      <th>price</th>\n",
       "      <th>in_stock</th>\n",
       "      <th>type</th>\n",
       "      <th>unit_price</th>\n",
       "      <th>category</th>\n",
       "    </tr>\n",
       "  </thead>\n",
       "  <tbody>\n",
       "    <tr>\n",
       "      <th>121</th>\n",
       "      <td>KIN0074</td>\n",
       "      <td>Kingston DataTraveler SE9 8GB USB 2.0 key</td>\n",
       "      <td>8GB USB 2.0 key minimalist design.</td>\n",
       "      <td>4.99</td>\n",
       "      <td>0</td>\n",
       "      <td>57445397</td>\n",
       "      <td>5.49</td>\n",
       "      <td>Storage</td>\n",
       "    </tr>\n",
       "    <tr>\n",
       "      <th>2251</th>\n",
       "      <td>KIN0125</td>\n",
       "      <td>Kingston 8GB Micro SDHC Class 10 45MB / s</td>\n",
       "      <td>8GB micro SDHC card with adapter</td>\n",
       "      <td>4.99</td>\n",
       "      <td>0</td>\n",
       "      <td>57445397</td>\n",
       "      <td>3.99</td>\n",
       "      <td>Storage</td>\n",
       "    </tr>\n",
       "    <tr>\n",
       "      <th>2252</th>\n",
       "      <td>KIN0126</td>\n",
       "      <td>Kingston UHS-I Memory Card 16GB microSDHC Clas...</td>\n",
       "      <td>Micro SDHC Card 16GB Class 10 with adapter for...</td>\n",
       "      <td>5.99</td>\n",
       "      <td>0</td>\n",
       "      <td>57445397</td>\n",
       "      <td>4.99</td>\n",
       "      <td>Storage</td>\n",
       "    </tr>\n",
       "    <tr>\n",
       "      <th>122</th>\n",
       "      <td>KIN0072</td>\n",
       "      <td>Kingston DataTraveler SE9 16GB USB 2.0 key</td>\n",
       "      <td>16GB USB 2.0 key minimalist design.</td>\n",
       "      <td>7.00</td>\n",
       "      <td>0</td>\n",
       "      <td>57445397</td>\n",
       "      <td>5.99</td>\n",
       "      <td>Storage</td>\n",
       "    </tr>\n",
       "    <tr>\n",
       "      <th>296</th>\n",
       "      <td>KIN0088</td>\n",
       "      <td>Kingston DataTraveler G4 PenDrive 16GB USB 3.0</td>\n",
       "      <td>16GB USB pendrive with cap.</td>\n",
       "      <td>7.00</td>\n",
       "      <td>0</td>\n",
       "      <td>57445397</td>\n",
       "      <td>6.99</td>\n",
       "      <td>Storage</td>\n",
       "    </tr>\n",
       "    <tr>\n",
       "      <th>...</th>\n",
       "      <td>...</td>\n",
       "      <td>...</td>\n",
       "      <td>...</td>\n",
       "      <td>...</td>\n",
       "      <td>...</td>\n",
       "      <td>...</td>\n",
       "      <td>...</td>\n",
       "      <td>...</td>\n",
       "    </tr>\n",
       "    <tr>\n",
       "      <th>373</th>\n",
       "      <td>PRO0020</td>\n",
       "      <td>R8 Pegasus2 Promise RAID 24TB Hard Disk Thunde...</td>\n",
       "      <td>RAID Thunderbolt 2 R8 24TB (8 x 3TB).</td>\n",
       "      <td>3499.00</td>\n",
       "      <td>0</td>\n",
       "      <td>11935397</td>\n",
       "      <td>3129.99</td>\n",
       "      <td>Storage</td>\n",
       "    </tr>\n",
       "    <tr>\n",
       "      <th>3633</th>\n",
       "      <td>GTE0097</td>\n",
       "      <td>G-Technology G-SPEED Shuttle XL 36TB RAID Thun...</td>\n",
       "      <td>External Storage 36TB (6x6TB) with 2 serial ad...</td>\n",
       "      <td>3676.99</td>\n",
       "      <td>0</td>\n",
       "      <td>11935397</td>\n",
       "      <td>3207.79</td>\n",
       "      <td>Storage</td>\n",
       "    </tr>\n",
       "    <tr>\n",
       "      <th>3193</th>\n",
       "      <td>LAC0218</td>\n",
       "      <td>6big LaCie Hard Drive 48TB RAID Thunderbolt 3 ...</td>\n",
       "      <td>48TB hard drive bays with RAID 6 5 two ports T...</td>\n",
       "      <td>4099.00</td>\n",
       "      <td>0</td>\n",
       "      <td>11935397</td>\n",
       "      <td>5399.00</td>\n",
       "      <td>Storage</td>\n",
       "    </tr>\n",
       "    <tr>\n",
       "      <th>3194</th>\n",
       "      <td>LAC0219</td>\n",
       "      <td>LaCie Hard Disk 6big 60TB RAID Thunderbolt 3 U...</td>\n",
       "      <td>60TB hard drive bays with RAID 6 5 two ports T...</td>\n",
       "      <td>4849.00</td>\n",
       "      <td>0</td>\n",
       "      <td>11935397</td>\n",
       "      <td>7349.00</td>\n",
       "      <td>Storage</td>\n",
       "    </tr>\n",
       "    <tr>\n",
       "      <th>3190</th>\n",
       "      <td>LAC0223</td>\n",
       "      <td>12big LaCie Hard Disk 120TB RAID Thunderbolt 3...</td>\n",
       "      <td>12 120TB hard drive bays with RAID 5 two ports...</td>\n",
       "      <td>9799.00</td>\n",
       "      <td>0</td>\n",
       "      <td>11935397</td>\n",
       "      <td>15349.00</td>\n",
       "      <td>Storage</td>\n",
       "    </tr>\n",
       "  </tbody>\n",
       "</table>\n",
       "<p>1314 rows × 8 columns</p>\n",
       "</div>"
      ],
      "text/plain": [
       "          sku                                               name  \\\n",
       "121   KIN0074          Kingston DataTraveler SE9 8GB USB 2.0 key   \n",
       "2251  KIN0125          Kingston 8GB Micro SDHC Class 10 45MB / s   \n",
       "2252  KIN0126  Kingston UHS-I Memory Card 16GB microSDHC Clas...   \n",
       "122   KIN0072         Kingston DataTraveler SE9 16GB USB 2.0 key   \n",
       "296   KIN0088     Kingston DataTraveler G4 PenDrive 16GB USB 3.0   \n",
       "...       ...                                                ...   \n",
       "373   PRO0020  R8 Pegasus2 Promise RAID 24TB Hard Disk Thunde...   \n",
       "3633  GTE0097  G-Technology G-SPEED Shuttle XL 36TB RAID Thun...   \n",
       "3193  LAC0218  6big LaCie Hard Drive 48TB RAID Thunderbolt 3 ...   \n",
       "3194  LAC0219  LaCie Hard Disk 6big 60TB RAID Thunderbolt 3 U...   \n",
       "3190  LAC0223  12big LaCie Hard Disk 120TB RAID Thunderbolt 3...   \n",
       "\n",
       "                                                   desc   price  in_stock  \\\n",
       "121                  8GB USB 2.0 key minimalist design.    4.99         0   \n",
       "2251                   8GB micro SDHC card with adapter    4.99         0   \n",
       "2252  Micro SDHC Card 16GB Class 10 with adapter for...    5.99         0   \n",
       "122                 16GB USB 2.0 key minimalist design.    7.00         0   \n",
       "296                         16GB USB pendrive with cap.    7.00         0   \n",
       "...                                                 ...     ...       ...   \n",
       "373               RAID Thunderbolt 2 R8 24TB (8 x 3TB). 3499.00         0   \n",
       "3633  External Storage 36TB (6x6TB) with 2 serial ad... 3676.99         0   \n",
       "3193  48TB hard drive bays with RAID 6 5 two ports T... 4099.00         0   \n",
       "3194  60TB hard drive bays with RAID 6 5 two ports T... 4849.00         0   \n",
       "3190  12 120TB hard drive bays with RAID 5 two ports... 9799.00         0   \n",
       "\n",
       "          type  unit_price category  \n",
       "121   57445397        5.49  Storage  \n",
       "2251  57445397        3.99  Storage  \n",
       "2252  57445397        4.99  Storage  \n",
       "122   57445397        5.99  Storage  \n",
       "296   57445397        6.99  Storage  \n",
       "...        ...         ...      ...  \n",
       "373   11935397     3129.99  Storage  \n",
       "3633  11935397     3207.79  Storage  \n",
       "3193  11935397     5399.00  Storage  \n",
       "3194  11935397     7349.00  Storage  \n",
       "3190  11935397    15349.00  Storage  \n",
       "\n",
       "[1314 rows x 8 columns]"
      ]
     },
     "execution_count": 740,
     "metadata": {},
     "output_type": "execute_result"
    }
   ],
   "source": [
    "products_ql.loc[products_ql[\"category\"] == \"Storage\"].sort_values(by=\"price\")\n",
    "# Assumption: Our biggest costumers are companys?"
   ]
  },
  {
   "cell_type": "code",
   "execution_count": 741,
   "id": "60a956b8",
   "metadata": {},
   "outputs": [
    {
     "data": {
      "text/plain": [
       "created_date\n",
       "2017   11922931.45\n",
       "2018    3444965.77\n",
       "Name: total_paid, dtype: float64"
      ]
     },
     "execution_count": 741,
     "metadata": {},
     "output_type": "execute_result"
    }
   ],
   "source": [
    "order_ql.groupby(order_ql[\"created_date\"].dt.year)[\"total_paid\"].sum()"
   ]
  },
  {
   "cell_type": "code",
   "execution_count": 742,
   "id": "5850b8b5",
   "metadata": {},
   "outputs": [],
   "source": [
    "year_month_revenue = order_ql.groupby([order_ql[\"year\"], order_ql[\"month\"]])[\"total_paid\"].sum()"
   ]
  },
  {
   "cell_type": "code",
   "execution_count": 743,
   "id": "33aa0995",
   "metadata": {},
   "outputs": [
    {
     "data": {
      "text/plain": [
       "year  month\n",
       "2017  1       1158598.78\n",
       "      2        616186.70\n",
       "      3        114619.30\n",
       "      4        420423.29\n",
       "      5        596631.17\n",
       "      6        622050.18\n",
       "      7       1010642.49\n",
       "      8        710623.12\n",
       "      9        847594.82\n",
       "      10      1066769.02\n",
       "      11      2900997.82\n",
       "      12      1857794.76\n",
       "2018  1       1932149.25\n",
       "      2       1041550.04\n",
       "      3        471266.48\n",
       "Name: total_paid, dtype: float64"
      ]
     },
     "execution_count": 743,
     "metadata": {},
     "output_type": "execute_result"
    }
   ],
   "source": [
    "year_month_revenue"
   ]
  },
  {
   "cell_type": "code",
   "execution_count": 744,
   "id": "31ef2ffa",
   "metadata": {},
   "outputs": [
    {
     "data": {
      "image/png": "[encoded data removed]",
      "text/plain": [
       "<Figure size 1000x500 with 1 Axes>"
      ]
     },
     "metadata": {},
     "output_type": "display_data"
    }
   ],
   "source": [
    "year_month_revenue.plot(figsize=(10,5), title=\"Monthly Revenue\",ylabel=\"Revenue in Mil.\",xlabel=\"Date\", ylim=(0,5000000));"
   ]
  },
  {
   "cell_type": "code",
   "execution_count": 745,
   "id": "980d8b34",
   "metadata": {},
   "outputs": [],
   "source": [
    "year_month_revenue2 = orderlines_ql.groupby([orderlines_ql[\"year\"], orderlines_ql[\"month\"]])[\"unit_price_total\"].sum()"
   ]
  },
  {
   "cell_type": "code",
   "execution_count": 746,
   "id": "0b110dc8",
   "metadata": {},
   "outputs": [
    {
     "data": {
      "image/png": "[encoded data removed]",
      "text/plain": [
       "<Figure size 1000x500 with 1 Axes>"
      ]
     },
     "metadata": {},
     "output_type": "display_data"
    }
   ],
   "source": [
    "year_month_revenue2.plot(figsize=(10,5), title=\"Monthly Revenue\",ylabel=\"Revenue in Mil.\",xlabel=\"Date\", ylim=(0,5000000));"
   ]
  },
  {
   "cell_type": "code",
   "execution_count": 747,
   "id": "013111ca",
   "metadata": {},
   "outputs": [],
   "source": [
    "year_month_discounts_percentage = orderlines_ql.groupby([orderlines_ql[\"year\"], orderlines_ql[\"month\"]])[\"discount\"].mean()"
   ]
  },
  {
   "cell_type": "code",
   "execution_count": 748,
   "id": "11cd0ffb",
   "metadata": {},
   "outputs": [
    {
     "data": {
      "image/png": "[encoded data removed]",
      "text/plain": [
       "<Figure size 1000x500 with 1 Axes>"
      ]
     },
     "metadata": {},
     "output_type": "display_data"
    }
   ],
   "source": [
    "year_month_discounts_percentage.plot(figsize=(10,5), title=\"Monthly Avg Discount\",ylabel=\"Average Discount\",xlabel=\"Date\");"
   ]
  },
  {
   "cell_type": "code",
   "execution_count": 749,
   "id": "9d34be8f",
   "metadata": {},
   "outputs": [],
   "source": [
    "year_month_discounts_percentage = orderlines_ql.groupby([orderlines_ql[\"year\"], orderlines_ql[\"month\"]])[\"Dis_Percentage\"].mean()"
   ]
  },
  {
   "cell_type": "code",
   "execution_count": 750,
   "id": "763a6693",
   "metadata": {},
   "outputs": [
    {
     "data": {
      "image/png": "[encoded data removed]",
      "text/plain": [
       "<Figure size 1000x500 with 1 Axes>"
      ]
     },
     "metadata": {},
     "output_type": "display_data"
    }
   ],
   "source": [
    "year_month_discounts_percentage.plot(figsize=(10,5), title=\"Monthly Avg Discount Percentage\",ylabel=\"Average Discount\",xlabel=\"Date\", color=\"red\");"
   ]
  },
  {
   "cell_type": "code",
   "execution_count": 751,
   "id": "d08fde2b",
   "metadata": {},
   "outputs": [],
   "source": [
    "Amount_sold_category = orderlines_ql.groupby(\"category\")[\"sku\"].count().sort_values(ascending=False)"
   ]
  },
  {
   "cell_type": "code",
   "execution_count": 752,
   "id": "1c71cd0c",
   "metadata": {},
   "outputs": [
    {
     "data": {
      "image/png": "[encoded data removed]",
      "text/plain": [
       "<Figure size 640x480 with 1 Axes>"
      ]
     },
     "metadata": {},
     "output_type": "display_data"
    }
   ],
   "source": [
    "Amount_sold_category.plot.barh(title=\"Amount per Category\", color=\"violet\", xlabel= \"Products Sold\");"
   ]
  },
  {
   "cell_type": "code",
   "execution_count": 753,
   "id": "de110d6c",
   "metadata": {},
   "outputs": [],
   "source": [
    "Sum_sold_category = orderlines_ql.groupby(\"category\")[\"unit_price\"].sum().sort_values(ascending=False)"
   ]
  },
  {
   "cell_type": "code",
   "execution_count": 754,
   "id": "83debde6",
   "metadata": {},
   "outputs": [
    {
     "data": {
      "image/png": "[encoded data removed]",
      "text/plain": [
       "<Figure size 640x480 with 1 Axes>"
      ]
     },
     "metadata": {},
     "output_type": "display_data"
    }
   ],
   "source": [
    "Sum_sold_category.plot.barh(title=\"Revenue per Category\", color=\"orange\", xlabel=\"Revenue in Mil.\");"
   ]
  },
  {
   "cell_type": "code",
   "execution_count": 755,
   "id": "39871cc4",
   "metadata": {},
   "outputs": [],
   "source": [
    "Discount_Percentage_category = orderlines_ql.groupby(\"category\")[\"Dis_Percentage\"].mean().sort_values(ascending=False)"
   ]
  },
  {
   "cell_type": "code",
   "execution_count": 756,
   "id": "4e49b50d",
   "metadata": {},
   "outputs": [
    {
     "data": {
      "image/png": "[encoded data removed]",
      "text/plain": [
       "<Figure size 640x480 with 1 Axes>"
      ]
     },
     "metadata": {},
     "output_type": "display_data"
    }
   ],
   "source": [
    "Discount_Percentage_category.plot.barh(color=\"green\", title=\"Discount Percentage per Category\", xlabel=\"Percent in Number\");"
   ]
  },
  {
   "cell_type": "code",
   "execution_count": 789,
   "id": "b32883ac",
   "metadata": {},
   "outputs": [],
   "source": [
    "order_ql[\"Season\"] = \"\"\n",
    "order_ql.loc[order_ql[\"month\"] == 1, \"Season\"] = \"Winter\"\n",
    "order_ql.loc[order_ql[\"month\"].between(2, 5), \"Season\"] = \"Spring\"\n",
    "order_ql.loc[order_ql[\"month\"].between(6, 9), \"Season\"] = \"Summer\"\n",
    "order_ql.loc[order_ql[\"month\"].between(10, 12), \"Season\"] = \"Winter\""
   ]
  },
  {
   "cell_type": "code",
   "execution_count": 790,
   "id": "520f0e0e",
   "metadata": {},
   "outputs": [
    {
     "data": {
      "text/plain": [
       "Season\n",
       "Spring    10573\n",
       "Summer     9268\n",
       "Winter    25609\n",
       "Name: order_id, dtype: int64"
      ]
     },
     "execution_count": 790,
     "metadata": {},
     "output_type": "execute_result"
    }
   ],
   "source": [
    "order_ql.groupby(\"Season\")[\"order_id\"].count()"
   ]
  },
  {
   "cell_type": "code",
   "execution_count": 791,
   "id": "e1fdcb99",
   "metadata": {},
   "outputs": [],
   "source": [
    "season_count = order_ql.groupby(\"Season\")[\"order_id\"].count()"
   ]
  },
  {
   "cell_type": "code",
   "execution_count": 792,
   "id": "6ef9b7c2",
   "metadata": {},
   "outputs": [
    {
     "data": {
      "image/png": "[encoded data removed]",
      "text/plain": [
       "<Figure size 640x480 with 1 Axes>"
      ]
     },
     "metadata": {},
     "output_type": "display_data"
    }
   ],
   "source": [
    "season_count.plot.bar(title=\"Orders per Season\", ylabel=\"Orders\");"
   ]
  },
  {
   "cell_type": "code",
   "execution_count": 793,
   "id": "d79c03a1",
   "metadata": {},
   "outputs": [],
   "source": [
    "season_revenue = order_ql.groupby(\"Season\")[\"total_paid\"].sum()"
   ]
  },
  {
   "cell_type": "code",
   "execution_count": 795,
   "id": "92a21591",
   "metadata": {},
   "outputs": [
    {
     "data": {
      "text/plain": [
       "Season\n",
       "Spring   3260676.98\n",
       "Summer   3190910.61\n",
       "Winter   8916309.63\n",
       "Name: total_paid, dtype: float64"
      ]
     },
     "execution_count": 795,
     "metadata": {},
     "output_type": "execute_result"
    }
   ],
   "source": [
    "season_revenue"
   ]
  },
  {
   "cell_type": "code",
   "execution_count": 794,
   "id": "35df0006",
   "metadata": {},
   "outputs": [
    {
     "data": {
      "image/png": "[encoded data removed]",
      "text/plain": [
       "<Figure size 640x480 with 1 Axes>"
      ]
     },
     "metadata": {},
     "output_type": "display_data"
    }
   ],
   "source": [
    "season_revenue.plot.bar(title=\"Revenue per Season\", ylabel=\"Revenue in Mil.\");"
   ]
  }
 ],
 "metadata": {
  "kernelspec": {
   "display_name": "Python 3",
   "language": "python",
   "name": "python3"
  },
  "language_info": {
   "codemirror_mode": {
    "name": "ipython",
    "version": 3
   },
   "file_extension": ".py",
   "mimetype": "text/x-python",
   "name": "python",
   "nbconvert_exporter": "python",
   "pygments_lexer": "ipython3",
   "version": "3.13.3"
  }
 },
 "nbformat": 4,
 "nbformat_minor": 5
}
